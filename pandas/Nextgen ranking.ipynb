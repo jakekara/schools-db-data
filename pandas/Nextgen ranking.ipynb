{
 "cells": [
  {
   "cell_type": "code",
   "execution_count": 45,
   "metadata": {
    "collapsed": false
   },
   "outputs": [],
   "source": [
    "from scipy import stats\n",
    "import numpy as np\n",
    "import pandas as pd\n",
    "import getschools as gs"
   ]
  },
  {
   "cell_type": "code",
   "execution_count": 112,
   "metadata": {
    "collapsed": false
   },
   "outputs": [],
   "source": [
    "def get_df():\n",
    "    \n",
    "    \n",
    "    ret = pd.read_csv(\"../clean/csv/NextGen-overall-scores.csv\",dtype={\"school_code\":object,\n",
    "                                                                      \"district_code:\":object})\n",
    "    \n",
    "    ret[\"district_code\"] = ret[\"district_code\"].astype(str).str.zfill(7)\n",
    "        \n",
    "    ret[\"school_code\"] = ret[\"school_code\"].astype(str).str.zfill(7)\n",
    "\n",
    "    ret = gs.add_drg(ret)\n",
    "    \n",
    "    ret = ret[[\"district_code\",\"district\",\"school_code\",\"school\",\"school_grade16\",\"school_grade15\",\"diff\",\"drg\"]]\n",
    "    \n",
    "    ret15 = ret[[\"district_code\",\"district\",\"school_code\",\"school\",\"school_grade15\",\"diff\",\"drg\"]]\n",
    "    ret15.columns=[[\"district_code\",\"district\",\"school_code\",\"school\",\"grade\",\"diff\",\"drg\"]]\n",
    "    ret15[\"year\"] = \"2014-15\"\n",
    "    \n",
    "    ret16 = ret[[\"district_code\",\"district\",\"school_code\",\"school\",\"school_grade16\",\"diff\",\"drg\"]]\n",
    "    ret16.columns=[[\"district_code\",\"district\",\"school_code\",\"school\",\"grade\",\"diff\",\"drg\"]]\n",
    "    ret16[\"year\"] = \"2015-16\"\n",
    "\n",
    "\n",
    "    ret = pd.concat([ret15,ret16])\n",
    "        \n",
    "    \n",
    "    return ret\n",
    "\n",
    "get_df().sort_values(by=\"school\").to_csv(\"../clean/for_db/nextgen_overall.csv\",index=False)"
   ]
  },
  {
   "cell_type": "code",
   "execution_count": 98,
   "metadata": {
    "collapsed": false
   },
   "outputs": [],
   "source": [
    "# def add_percentile(df):\n",
    "    \n",
    "#     ret = df.copy()\n",
    "    \n",
    "#     ret[\"pctile_16\"] = ret[\"school_grade16\"].apply(lambda x: stats.percentileofscore(ret[\"school_grade16\"], x))\n",
    "#     print stats.percentileofscore(ret[\"school_grade16\"],86.86)\n",
    "#     print ret[\"school_grade16\"].quantile(0.9)\n",
    "    \n",
    "#     return ret\n",
    "    \n",
    "# add_percentile(get_df()).sort_values(by=\"pctile_16\",ascending=False)"
   ]
  },
  {
   "cell_type": "code",
   "execution_count": 106,
   "metadata": {
    "collapsed": false
   },
   "outputs": [],
   "source": [
    "def drg_report(df):\n",
    "    ret = df.copy()\n",
    "    \n",
    "    return ret.groupby([\"drg\",\"year\"]).agg({\"grade\":np.median}).reset_index()\n",
    "\n",
    "drg_report(get_df()).to_csv(\"../clean/drg_state_reports/drg_nextgen_overall.csv\",index=False)\n",
    "drg_report(get_df()).to_csv(\"../clean/for_db/drg_nextgen_overall.csv\",index=False)"
   ]
  },
  {
   "cell_type": "code",
   "execution_count": 109,
   "metadata": {
    "collapsed": false
   },
   "outputs": [
    {
     "data": {
      "text/html": [
       "<div>\n",
       "<table border=\"1\" class=\"dataframe\">\n",
       "  <thead>\n",
       "    <tr style=\"text-align: right;\">\n",
       "      <th></th>\n",
       "      <th>year</th>\n",
       "      <th>grade</th>\n",
       "    </tr>\n",
       "  </thead>\n",
       "  <tbody>\n",
       "    <tr>\n",
       "      <th>0</th>\n",
       "      <td>2014-15</td>\n",
       "      <td>79.887920</td>\n",
       "    </tr>\n",
       "    <tr>\n",
       "      <th>1</th>\n",
       "      <td>2015-16</td>\n",
       "      <td>75.012103</td>\n",
       "    </tr>\n",
       "  </tbody>\n",
       "</table>\n",
       "</div>"
      ],
      "text/plain": [
       "      year      grade\n",
       "0  2014-15  79.887920\n",
       "1  2015-16  75.012103"
      ]
     },
     "execution_count": 109,
     "metadata": {},
     "output_type": "execute_result"
    }
   ],
   "source": [
    "def state_report(df):\n",
    "    ret = df.copy()    \n",
    "    ret = ret.groupby(\"year\").agg({\"grade\":np.median}).reset_index()\n",
    "    \n",
    "    return ret\n",
    "\n",
    "state_report(get_df()).to_csv(\"../clean/drg_state_reports/state_nextgent_overall.csv\",index=False)\n",
    "state_report(get_df()).to_csv(\"../clean/for_db/state_nextgent_overall.csv\",index=False)"
   ]
  },
  {
   "cell_type": "code",
   "execution_count": null,
   "metadata": {
    "collapsed": true
   },
   "outputs": [],
   "source": []
  },
  {
   "cell_type": "code",
   "execution_count": null,
   "metadata": {
    "collapsed": true
   },
   "outputs": [],
   "source": []
  },
  {
   "cell_type": "code",
   "execution_count": null,
   "metadata": {
    "collapsed": true
   },
   "outputs": [],
   "source": []
  },
  {
   "cell_type": "code",
   "execution_count": null,
   "metadata": {
    "collapsed": true
   },
   "outputs": [],
   "source": []
  }
 ],
 "metadata": {
  "kernelspec": {
   "display_name": "Python 2",
   "language": "python",
   "name": "python2"
  },
  "language_info": {
   "codemirror_mode": {
    "name": "ipython",
    "version": 2
   },
   "file_extension": ".py",
   "mimetype": "text/x-python",
   "name": "python",
   "nbconvert_exporter": "python",
   "pygments_lexer": "ipython2",
   "version": "2.7.13"
  }
 },
 "nbformat": 4,
 "nbformat_minor": 0
}
