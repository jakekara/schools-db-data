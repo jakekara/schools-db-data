{
 "cells": [
  {
   "cell_type": "code",
   "execution_count": 1,
   "metadata": {
    "collapsed": false
   },
   "outputs": [
    {
     "ename": "SyntaxError",
     "evalue": "invalid syntax (getschools.py, line 61)",
     "output_type": "error",
     "traceback": [
      "\u001b[0;36m  File \u001b[0;32m\"getschools.py\"\u001b[0;36m, line \u001b[0;32m61\u001b[0m\n\u001b[0;31m    if len(filter(lambda x: x not None and \"district\" in x[\"type\"].lower(),\u001b[0m\n\u001b[0m                                     ^\u001b[0m\n\u001b[0;31mSyntaxError\u001b[0m\u001b[0;31m:\u001b[0m invalid syntax\n"
     ]
    }
   ],
   "source": [
    "from getschools import lookup_exact, lookup_contains, lookup_both, add_exact_matches, filldown, clean_colnames\n",
    "import pandas as pd\n",
    "import numpy as np"
   ]
  },
  {
   "cell_type": "code",
   "execution_count": null,
   "metadata": {
    "collapsed": true
   },
   "outputs": [],
   "source": []
  },
  {
   "cell_type": "code",
   "execution_count": null,
   "metadata": {
    "collapsed": false
   },
   "outputs": [],
   "source": [
    "def get_df(ystr):\n",
    "    fname = \"../scripts/noequals/StaffingRace-\"+ ystr +\".csv\"\n",
    "    ret = pd.read_csv(fname,skiprows=1)\n",
    "    \n",
    "    ret = filldown(ret, \"District\")\n",
    "    ret = filldown(ret, \"School\")\n",
    "    \n",
    "    ret = clean_colnames(ret)\n",
    "    ret[\"year\"] = \"20\" + ystr\n",
    "    return add_exact_matches(ret)\n",
    "\n",
    "get_df(\"13-14\").dtypes"
   ]
  },
  {
   "cell_type": "code",
   "execution_count": null,
   "metadata": {
    "collapsed": false
   },
   "outputs": [],
   "source": [
    "#with_matches = add_exact_matches(get_df(\"13-14\"))"
   ]
  },
  {
   "cell_type": "code",
   "execution_count": null,
   "metadata": {
    "collapsed": false
   },
   "outputs": [],
   "source": [
    "#len(with_matches[with_matches[\"school_code\"].isnull()][\"school\"].unique())"
   ]
  },
  {
   "cell_type": "code",
   "execution_count": null,
   "metadata": {
    "collapsed": false
   },
   "outputs": [],
   "source": [
    "#len(with_matches[with_matches[\"school_code\"].notnull()][\"school\"].unique())"
   ]
  },
  {
   "cell_type": "markdown",
   "metadata": {},
   "source": [
    "# Success rate\n",
    "\n",
    "1102 schools matche, 24 do not."
   ]
  },
  {
   "cell_type": "markdown",
   "metadata": {},
   "source": [
    "# Export"
   ]
  },
  {
   "cell_type": "code",
   "execution_count": null,
   "metadata": {
    "collapsed": true
   },
   "outputs": [],
   "source": [
    "with_matches.to_csv(\"../clean/csv/staff_race.csv\",index=False)"
   ]
  },
  {
   "cell_type": "markdown",
   "metadata": {},
   "source": [
    "# Join all tables"
   ]
  },
  {
   "cell_type": "code",
   "execution_count": null,
   "metadata": {
    "collapsed": true
   },
   "outputs": [],
   "source": [
    "def get_all_dfs():\n",
    "    years = [\"02-03\",\"03-04\",\"04-05\",\"06-07\",\n",
    "            \"07-08\",\"08-09\",\"10-11\",\"11-12\",\n",
    "            \"12-13\"]\n",
    "    \n",
    "    dfs = []\n",
    "    \n",
    "    for y in years:\n",
    "        dfs.append(get_df(y))\n",
    "        \n",
    "    return dfs"
   ]
  },
  {
   "cell_type": "code",
   "execution_count": null,
   "metadata": {
    "collapsed": false
   },
   "outputs": [],
   "source": [
    "all_dfs = get_all_dfs()"
   ]
  },
  {
   "cell_type": "code",
   "execution_count": null,
   "metadata": {
    "collapsed": false
   },
   "outputs": [],
   "source": [
    "def join_all(dfs):\n",
    "    return pd.concat(dfs)\n",
    "    ret = dfs[0].copy()\n",
    "    ret_year = str(dfs[0][\"year\"][0])\n",
    "    for df in dfs[1:]:\n",
    "        yr = str(df[\"year\"][0])\n",
    "        #print yr\n",
    "        print df.columns\n",
    "#         ret.join(df.copy(),how=\"outer\",rsuffix=yr)\n",
    "        #ret = ret.merge(df)\n",
    "    return ret"
   ]
  },
  {
   "cell_type": "code",
   "execution_count": null,
   "metadata": {
    "collapsed": false
   },
   "outputs": [],
   "source": [
    "join_all(all_dfs)[join_all(all_dfs)[\"school_code\"] == \"2795113\"]"
   ]
  },
  {
   "cell_type": "markdown",
   "metadata": {},
   "source": [
    "# Success rate: 95%"
   ]
  },
  {
   "cell_type": "code",
   "execution_count": null,
   "metadata": {
    "collapsed": false
   },
   "outputs": [],
   "source": [
    "len(join_all(all_dfs)[join_all(all_dfs)[\"school_code\"].isnull()].index)"
   ]
  },
  {
   "cell_type": "code",
   "execution_count": null,
   "metadata": {
    "collapsed": false
   },
   "outputs": [],
   "source": [
    "len(join_all(all_dfs)[join_all(all_dfs)[\"school_code\"].notnull()].index)"
   ]
  },
  {
   "cell_type": "markdown",
   "metadata": {},
   "source": [
    "# Export again\n",
    "\n",
    "Overwrite the previous document with all sheets merged"
   ]
  },
  {
   "cell_type": "code",
   "execution_count": null,
   "metadata": {
    "collapsed": true
   },
   "outputs": [],
   "source": [
    "join_all(all_dfs).to_csv(\"../clean/csv/staff_race.csv\",index=False)"
   ]
  },
  {
   "cell_type": "code",
   "execution_count": null,
   "metadata": {
    "collapsed": true
   },
   "outputs": [],
   "source": []
  }
 ],
 "metadata": {
  "kernelspec": {
   "display_name": "Python 2",
   "language": "python",
   "name": "python2"
  },
  "language_info": {
   "codemirror_mode": {
    "name": "ipython",
    "version": 2
   },
   "file_extension": ".py",
   "mimetype": "text/x-python",
   "name": "python",
   "nbconvert_exporter": "python",
   "pygments_lexer": "ipython2",
   "version": "2.7.13"
  }
 },
 "nbformat": 4,
 "nbformat_minor": 0
}
