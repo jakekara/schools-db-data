{
 "cells": [
  {
   "cell_type": "code",
   "execution_count": 1,
   "metadata": {
    "collapsed": true
   },
   "outputs": [],
   "source": [
    "import pandas as pd, re\n",
    "import getschools as gs\n",
    "\n"
   ]
  },
  {
   "cell_type": "code",
   "execution_count": 2,
   "metadata": {
    "collapsed": true
   },
   "outputs": [],
   "source": [
    "def get_df(group):\n",
    "    \n",
    "    ret = pd.read_csv(\"../scripts/noequals/graduation-\"+ group +\".csv\",skiprows=5)\n",
    "    ret = gs.clean_colnames(ret)\n",
    "    ret = gs.add_exact_matches(ret)\n",
    "    return ret"
   ]
  },
  {
   "cell_type": "code",
   "execution_count": 3,
   "metadata": {
    "collapsed": false
   },
   "outputs": [
    {
     "data": {
      "text/plain": [
       "'\\ngraduation-all.csv\\ngraduation-ell.csv\\ngraduation-frpl.csv\\ngraduation-gender.csv\\ngraduation-highneeds.csv\\ngraduation-needs.csv\\ngraduation-race.csv\\ngraduation-special-ed.csv\\ngraduation-sped.csv\\n'"
      ]
     },
     "execution_count": 3,
     "metadata": {},
     "output_type": "execute_result"
    }
   ],
   "source": [
    "'''\n",
    "graduation-all.csv\n",
    "graduation-ell.csv\n",
    "graduation-frpl.csv\n",
    "graduation-gender.csv\n",
    "graduation-highneeds.csv\n",
    "graduation-needs.csv\n",
    "graduation-race.csv\n",
    "graduation-special-ed.csv\n",
    "graduation-sped.csv\n",
    "'''\n",
    "\n"
   ]
  },
  {
   "cell_type": "code",
   "execution_count": 4,
   "metadata": {
    "collapsed": true
   },
   "outputs": [],
   "source": [
    "groups = [\"all\",\"ell\",\"frpl\",\"gender\",\"highneeds\",\"race\",\"sped\"]"
   ]
  },
  {
   "cell_type": "code",
   "execution_count": 5,
   "metadata": {
    "collapsed": false
   },
   "outputs": [],
   "source": [
    "for g in groups:\n",
    "    get_df(g).to_csv(\"../clean/graduation-\" + g + \".csv\",index=False)"
   ]
  },
  {
   "cell_type": "code",
   "execution_count": null,
   "metadata": {
    "collapsed": true
   },
   "outputs": [],
   "source": []
  },
  {
   "cell_type": "code",
   "execution_count": null,
   "metadata": {
    "collapsed": true
   },
   "outputs": [],
   "source": []
  }
 ],
 "metadata": {
  "kernelspec": {
   "display_name": "Python 2",
   "language": "python",
   "name": "python2"
  },
  "language_info": {
   "codemirror_mode": {
    "name": "ipython",
    "version": 2
   },
   "file_extension": ".py",
   "mimetype": "text/x-python",
   "name": "python",
   "nbconvert_exporter": "python",
   "pygments_lexer": "ipython2",
   "version": "2.7.13"
  }
 },
 "nbformat": 4,
 "nbformat_minor": 0
}
