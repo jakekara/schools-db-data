{
 "cells": [
  {
   "cell_type": "code",
   "execution_count": 1,
   "metadata": {
    "collapsed": true
   },
   "outputs": [],
   "source": [
    "import pandas as pd\n",
    "import numpy as no\n",
    "import getschools as gs"
   ]
  },
  {
   "cell_type": "code",
   "execution_count": 28,
   "metadata": {
    "collapsed": false
   },
   "outputs": [],
   "source": [
    "def get_df():\n",
    "    \n",
    "    ret = pd.read_excel(\"../raw/BILINGUAL 2016-17.xlsx\",skiprows=1)\n",
    "    \n",
    "    ret = gs.clean_colnames(ret)\n",
    "    \n",
    "    ret[\"year\"] = \"2016-17\"\n",
    "    \n",
    "    ret.columns = [u'school_code',u'district',\n",
    "                   u'school',u'language',\n",
    "                   u'ltss', u'eligible_for_bilingual',\n",
    "                   u'total_els',u'year']\n",
    "    \n",
    "    ret[\"school_code\"] = ret[\"school_code\"].astype(str).str.zfill(7)\n",
    "    \n",
    "    return ret\n",
    "    \n",
    "get_df().to_csv(\"../clean/csv/bilingual_required_2016-17.csv\",index=False)\n",
    "get_df().to_csv(\"../clean/for_db/bilingual_required_2016-17.csv\",index=False)"
   ]
  },
  {
   "cell_type": "code",
   "execution_count": null,
   "metadata": {
    "collapsed": true
   },
   "outputs": [],
   "source": []
  }
 ],
 "metadata": {
  "kernelspec": {
   "display_name": "Python 2",
   "language": "python",
   "name": "python2"
  },
  "language_info": {
   "codemirror_mode": {
    "name": "ipython",
    "version": 2
   },
   "file_extension": ".py",
   "mimetype": "text/x-python",
   "name": "python",
   "nbconvert_exporter": "python",
   "pygments_lexer": "ipython2",
   "version": "2.7.13"
  }
 },
 "nbformat": 4,
 "nbformat_minor": 0
}
