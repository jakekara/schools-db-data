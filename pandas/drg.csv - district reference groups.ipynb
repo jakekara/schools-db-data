{
 "cells": [
  {
   "cell_type": "code",
   "execution_count": 1,
   "metadata": {
    "collapsed": false
   },
   "outputs": [],
   "source": [
    "import pandas as pd\n",
    "import requests as rq"
   ]
  },
  {
   "cell_type": "code",
   "execution_count": 2,
   "metadata": {
    "collapsed": true
   },
   "outputs": [],
   "source": [
    "# APIURL = \"https://schoolsdb2.herokuapp.com/cdata/\"\n",
    "APIURL = \"http://localhost:8000/cdata/\""
   ]
  },
  {
   "cell_type": "code",
   "execution_count": 3,
   "metadata": {
    "collapsed": false
   },
   "outputs": [
    {
     "data": {
      "text/plain": [
       "{u'city': u'Niantic',\n",
       " u'district': u'East Lyme School District',\n",
       " u'district_code': u'0450011',\n",
       " u'education_program': u'',\n",
       " u'fax': u'',\n",
       " u'grade_1': u'0',\n",
       " u'grade_10': u'0',\n",
       " u'grade_11': u'0',\n",
       " u'grade_12': u'0',\n",
       " u'grade_2': u'0',\n",
       " u'grade_3': u'0',\n",
       " u'grade_4': u'0',\n",
       " u'grade_5': u'1',\n",
       " u'grade_6': u'1',\n",
       " u'grade_7': u'1',\n",
       " u'grade_8': u'1',\n",
       " u'grade_9': u'0',\n",
       " u'inter_district_magnet': u'',\n",
       " u'kindergarten': u'0',\n",
       " u'phone': u'860-739-4491',\n",
       " u'pre_kindergarten': u'0',\n",
       " u'program_type': u'',\n",
       " u'school': u'East Lyme Middle School',\n",
       " u'school_code': u'0455111',\n",
       " u'state': u'CT',\n",
       " u'street': u'31 Society Rd.',\n",
       " u'type': u'Public Schools',\n",
       " u'website': u'',\n",
       " u'zip': u'06357'}"
      ]
     },
     "execution_count": 3,
     "metadata": {},
     "output_type": "execute_result"
    }
   ],
   "source": [
    "schools = rq.get(APIURL + \"dataset/schools/\").json()\n",
    "schools[1000]"
   ]
  },
  {
   "cell_type": "code",
   "execution_count": 4,
   "metadata": {
    "collapsed": false
   },
   "outputs": [
    {
     "data": {
      "text/html": [
       "<div>\n",
       "<table border=\"1\" class=\"dataframe\">\n",
       "  <thead>\n",
       "    <tr style=\"text-align: right;\">\n",
       "      <th></th>\n",
       "      <th>ERGCode</th>\n",
       "      <th>DistrictName</th>\n",
       "      <th>Unnamed: 2</th>\n",
       "    </tr>\n",
       "  </thead>\n",
       "  <tbody>\n",
       "    <tr>\n",
       "      <th>0</th>\n",
       "      <td>A</td>\n",
       "      <td>DARIEN</td>\n",
       "      <td>NaN</td>\n",
       "    </tr>\n",
       "    <tr>\n",
       "      <th>1</th>\n",
       "      <td>A</td>\n",
       "      <td>EASTON</td>\n",
       "      <td>NaN</td>\n",
       "    </tr>\n",
       "    <tr>\n",
       "      <th>2</th>\n",
       "      <td>A</td>\n",
       "      <td>NEW CANAAN</td>\n",
       "      <td>NaN</td>\n",
       "    </tr>\n",
       "    <tr>\n",
       "      <th>3</th>\n",
       "      <td>A</td>\n",
       "      <td>REDDING</td>\n",
       "      <td>NaN</td>\n",
       "    </tr>\n",
       "    <tr>\n",
       "      <th>4</th>\n",
       "      <td>A</td>\n",
       "      <td>REGIONAL SCHOOL DISTRICT 09 ( Easton  Redding)</td>\n",
       "      <td>NaN</td>\n",
       "    </tr>\n",
       "  </tbody>\n",
       "</table>\n",
       "</div>"
      ],
      "text/plain": [
       "  ERGCode                                    DistrictName  Unnamed: 2\n",
       "0       A                                          DARIEN         NaN\n",
       "1       A                                          EASTON         NaN\n",
       "2       A                                      NEW CANAAN         NaN\n",
       "3       A                                         REDDING         NaN\n",
       "4       A  REGIONAL SCHOOL DISTRICT 09 ( Easton  Redding)         NaN"
      ]
     },
     "execution_count": 4,
     "metadata": {},
     "output_type": "execute_result"
    }
   ],
   "source": [
    "drgs = pd.read_csv(\"../raw/ERGbyDistrict.csv\")\n",
    "\n",
    "drgs.head()"
   ]
  },
  {
   "cell_type": "code",
   "execution_count": null,
   "metadata": {
    "collapsed": false
   },
   "outputs": [],
   "source": []
  },
  {
   "cell_type": "code",
   "execution_count": 5,
   "metadata": {
    "collapsed": false
   },
   "outputs": [],
   "source": [
    "def find_contains(needle, haystack_df, key):\n",
    "    df = haystack_df.copy()\n",
    "    df[key] = df[key].str.upper()\n",
    "    needle = needle.upper()\n",
    "    \n",
    "    print needle, key\n",
    "\n",
    "    return haystack_df[haystack_df[key].str.startswith(needle)]\n",
    "\n",
    "def find_district(name):\n",
    "    return find_contains(name.upper().replace(\"SCHOOL DISTRICT\",\"\").strip(), drgs, \"DistrictName\")\n",
    "            "
   ]
  },
  {
   "cell_type": "code",
   "execution_count": 6,
   "metadata": {
    "collapsed": false
   },
   "outputs": [
    {
     "data": {
      "text/plain": [
       "<function __main__.find_district>"
      ]
     },
     "execution_count": 6,
     "metadata": {},
     "output_type": "execute_result"
    }
   ],
   "source": [
    "find_district"
   ]
  },
  {
   "cell_type": "code",
   "execution_count": 7,
   "metadata": {
    "collapsed": false
   },
   "outputs": [
    {
     "data": {
      "text/plain": [
       "{u'city': u'Woodstock',\n",
       " u'district': u'Woodstock School District',\n",
       " u'district_code': u'1690011',\n",
       " u'education_program': u'',\n",
       " u'fax': u'',\n",
       " u'grade_1': u'',\n",
       " u'grade_10': u'',\n",
       " u'grade_11': u'',\n",
       " u'grade_12': u'',\n",
       " u'grade_2': u'',\n",
       " u'grade_3': u'',\n",
       " u'grade_4': u'',\n",
       " u'grade_5': u'',\n",
       " u'grade_6': u'',\n",
       " u'grade_7': u'',\n",
       " u'grade_8': u'',\n",
       " u'grade_9': u'',\n",
       " u'inter_district_magnet': u'',\n",
       " u'kindergarten': u'',\n",
       " u'phone': u'860-928-7453',\n",
       " u'pre_kindergarten': u'',\n",
       " u'program_type': u'',\n",
       " u'school': u'Woodstock School District',\n",
       " u'school_code': u'1690011',\n",
       " u'state': u'CT',\n",
       " u'street': u'147 A Route 169',\n",
       " u'type': u'Public School Districts',\n",
       " u'website': u'www.woodstockschools.net',\n",
       " u'zip': u'06281'}"
      ]
     },
     "execution_count": 7,
     "metadata": {},
     "output_type": "execute_result"
    }
   ],
   "source": [
    "def is_district( x ):\n",
    "    if x is None: \n",
    "        return False\n",
    "    if \"type\" not in x or x[\"type\"] is None: \n",
    "        return False\n",
    "    \n",
    "    return \"DISTRICT\" in x[\"type\"].upper()\n",
    "    \n",
    "just_districts = filter(lambda x: is_district(x), schools)\n",
    "just_districts[0]"
   ]
  },
  {
   "cell_type": "code",
   "execution_count": 8,
   "metadata": {
    "collapsed": false
   },
   "outputs": [
    {
     "data": {
      "text/plain": [
       "<function __main__.find_district_code>"
      ]
     },
     "execution_count": 8,
     "metadata": {},
     "output_type": "execute_result"
    }
   ],
   "source": [
    "def find_district_code(dist_name):\n",
    "    return filter(lambda x: x[\"school\"].lower().startswith(dist_name.lower()), just_districts )\n",
    "    \n",
    "#find_district_code(\"REGIONAL SCHOOL DISTRICT\")\n",
    "find_district_code"
   ]
  },
  {
   "cell_type": "code",
   "execution_count": 9,
   "metadata": {
    "collapsed": false
   },
   "outputs": [
    {
     "name": "stdout",
     "output_type": "stream",
     "text": [
      "WINDSOR TOO MANY 2\n",
      "WOODSTOCK TOO MANY 2\n",
      "NORWICH TOO MANY 2\n",
      "STAMFORD TOO MANY 3\n",
      "BRIDGEPORT TOO MANY 2\n"
     ]
    }
   ],
   "source": [
    "def add_district_id(df):\n",
    "    \n",
    "    ret = df.copy()\n",
    "    \n",
    "    district_codes = []\n",
    "    district_name_check = []\n",
    "    for i, r in ret.iterrows():\n",
    "        distname = (\" \").join(r[\"DistrictName\"].replace(\"(\",\" (\").split(\" \")[:4])\n",
    "        matches = find_district_code(distname)\n",
    "        if (len(matches) == 1):\n",
    "            #print distname, matches[0][\"school\"]\n",
    "            district_codes.append(matches[0][\"district_code\"])\n",
    "            district_name_check.append(matches[0][\"school\"])\n",
    "            \n",
    "        elif (len(matches) > 1):\n",
    "            print distname, \"TOO MANY\", len(matches)\n",
    "            district_codes.append(None)\n",
    "            district_name_check.append(None)\n",
    "\n",
    "        elif (len(matches) < 1):\n",
    "            print distname, \"NO MATCHES\"\n",
    "            district_codes.append(None)\n",
    "            district_name_check.append(None)\n",
    "\n",
    "            \n",
    "    ret[\"school_code\"] = pd.Series(district_codes).values\n",
    "    ret[\"district_name_check\"] = pd.Series(district_name_check).values\n",
    "\n",
    "    return ret\n",
    "\n",
    "with_codes = add_district_id(drgs)    "
   ]
  },
  {
   "cell_type": "code",
   "execution_count": 10,
   "metadata": {
    "collapsed": false
   },
   "outputs": [],
   "source": [
    "with_codes.columns = \"drg\",\"drg_distname\",\"NA\",\"school_code\",\"district_name_check\""
   ]
  },
  {
   "cell_type": "code",
   "execution_count": 11,
   "metadata": {
    "collapsed": false
   },
   "outputs": [],
   "source": [
    "with_codes = with_codes[[\"drg\",\"drg_distname\",\"school_code\",\"district_name_check\"]]"
   ]
  },
  {
   "cell_type": "code",
   "execution_count": 12,
   "metadata": {
    "collapsed": false
   },
   "outputs": [
    {
     "data": {
      "text/plain": [
       "[{u'city': u'Hartford',\n",
       "  u'district': u'Hartford School District',\n",
       "  u'district_code': u'0640011',\n",
       "  u'education_program': u'',\n",
       "  u'fax': u'',\n",
       "  u'grade_1': u'',\n",
       "  u'grade_10': u'',\n",
       "  u'grade_11': u'',\n",
       "  u'grade_12': u'',\n",
       "  u'grade_2': u'',\n",
       "  u'grade_3': u'',\n",
       "  u'grade_4': u'',\n",
       "  u'grade_5': u'',\n",
       "  u'grade_6': u'',\n",
       "  u'grade_7': u'',\n",
       "  u'grade_8': u'',\n",
       "  u'grade_9': u'',\n",
       "  u'inter_district_magnet': u'',\n",
       "  u'kindergarten': u'',\n",
       "  u'phone': u'860-695-8000',\n",
       "  u'pre_kindergarten': u'',\n",
       "  u'program_type': u'',\n",
       "  u'school': u'Hartford School District',\n",
       "  u'school_code': u'0640011',\n",
       "  u'state': u'CT',\n",
       "  u'street': u'249 High Street',\n",
       "  u'type': u'Public School Districts',\n",
       "  u'website': u'www.hartfordschools.org/',\n",
       "  u'zip': u'06103'}]"
      ]
     },
     "execution_count": 12,
     "metadata": {},
     "output_type": "execute_result"
    }
   ],
   "source": [
    "find_district_code(\"HARTFORD\")"
   ]
  },
  {
   "cell_type": "markdown",
   "metadata": {},
   "source": [
    "# Fix exceptions\n",
    "\n",
    "All but six scholls came over cleanly. Here are the problem ones:"
   ]
  },
  {
   "cell_type": "code",
   "execution_count": 13,
   "metadata": {
    "collapsed": false
   },
   "outputs": [
    {
     "data": {
      "text/html": [
       "<div>\n",
       "<table border=\"1\" class=\"dataframe\">\n",
       "  <thead>\n",
       "    <tr style=\"text-align: right;\">\n",
       "      <th></th>\n",
       "      <th>drg</th>\n",
       "      <th>drg_distname</th>\n",
       "      <th>school_code</th>\n",
       "      <th>district_name_check</th>\n",
       "    </tr>\n",
       "  </thead>\n",
       "  <tbody>\n",
       "    <tr>\n",
       "      <th>83</th>\n",
       "      <td>D</td>\n",
       "      <td>WINDSOR</td>\n",
       "      <td>None</td>\n",
       "      <td>None</td>\n",
       "    </tr>\n",
       "    <tr>\n",
       "      <th>117</th>\n",
       "      <td>E</td>\n",
       "      <td>WOODSTOCK</td>\n",
       "      <td>None</td>\n",
       "      <td>None</td>\n",
       "    </tr>\n",
       "    <tr>\n",
       "      <th>159</th>\n",
       "      <td>H</td>\n",
       "      <td>NORWICH</td>\n",
       "      <td>None</td>\n",
       "      <td>None</td>\n",
       "    </tr>\n",
       "    <tr>\n",
       "      <th>160</th>\n",
       "      <td>H</td>\n",
       "      <td>STAMFORD</td>\n",
       "      <td>None</td>\n",
       "      <td>None</td>\n",
       "    </tr>\n",
       "    <tr>\n",
       "      <th>162</th>\n",
       "      <td>I</td>\n",
       "      <td>BRIDGEPORT</td>\n",
       "      <td>None</td>\n",
       "      <td>None</td>\n",
       "    </tr>\n",
       "  </tbody>\n",
       "</table>\n",
       "</div>"
      ],
      "text/plain": [
       "    drg drg_distname school_code district_name_check\n",
       "83    D      WINDSOR        None                None\n",
       "117   E    WOODSTOCK        None                None\n",
       "159   H      NORWICH        None                None\n",
       "160   H     STAMFORD        None                None\n",
       "162   I   BRIDGEPORT        None                None"
      ]
     },
     "execution_count": 13,
     "metadata": {},
     "output_type": "execute_result"
    }
   ],
   "source": [
    "with_codes[with_codes[\"school_code\"].isnull()]"
   ]
  },
  {
   "cell_type": "code",
   "execution_count": null,
   "metadata": {
    "collapsed": false
   },
   "outputs": [],
   "source": []
  },
  {
   "cell_type": "markdown",
   "metadata": {},
   "source": [
    "## 1. Windsor, not Windsor Locks"
   ]
  },
  {
   "cell_type": "code",
   "execution_count": 14,
   "metadata": {
    "collapsed": false
   },
   "outputs": [
    {
     "data": {
      "text/plain": [
       "[{u'city': u'Windsor',\n",
       "  u'district': u'Windsor School District',\n",
       "  u'district_code': u'1640011',\n",
       "  u'education_program': u'',\n",
       "  u'fax': u'860-687-2009',\n",
       "  u'grade_1': u'',\n",
       "  u'grade_10': u'',\n",
       "  u'grade_11': u'',\n",
       "  u'grade_12': u'',\n",
       "  u'grade_2': u'',\n",
       "  u'grade_3': u'',\n",
       "  u'grade_4': u'',\n",
       "  u'grade_5': u'',\n",
       "  u'grade_6': u'',\n",
       "  u'grade_7': u'',\n",
       "  u'grade_8': u'',\n",
       "  u'grade_9': u'',\n",
       "  u'inter_district_magnet': u'',\n",
       "  u'kindergarten': u'',\n",
       "  u'phone': u'860-687-2000',\n",
       "  u'pre_kindergarten': u'',\n",
       "  u'program_type': u'',\n",
       "  u'school': u'Windsor School District',\n",
       "  u'school_code': u'1640011',\n",
       "  u'state': u'CT',\n",
       "  u'street': u'601 Matianuck Avenue',\n",
       "  u'type': u'Public School Districts',\n",
       "  u'website': u'www.windsorct.org',\n",
       "  u'zip': u'06095'},\n",
       " {u'city': u'Windsor Locks',\n",
       "  u'district': u'Windsor Locks School District',\n",
       "  u'district_code': u'1650011',\n",
       "  u'education_program': u'',\n",
       "  u'fax': u'',\n",
       "  u'grade_1': u'',\n",
       "  u'grade_10': u'',\n",
       "  u'grade_11': u'',\n",
       "  u'grade_12': u'',\n",
       "  u'grade_2': u'',\n",
       "  u'grade_3': u'',\n",
       "  u'grade_4': u'',\n",
       "  u'grade_5': u'',\n",
       "  u'grade_6': u'',\n",
       "  u'grade_7': u'',\n",
       "  u'grade_8': u'',\n",
       "  u'grade_9': u'',\n",
       "  u'inter_district_magnet': u'',\n",
       "  u'kindergarten': u'',\n",
       "  u'phone': u'860-292-5000',\n",
       "  u'pre_kindergarten': u'',\n",
       "  u'program_type': u'',\n",
       "  u'school': u'Windsor Locks School District',\n",
       "  u'school_code': u'1650011',\n",
       "  u'state': u'CT',\n",
       "  u'street': u'58 South Elm Street',\n",
       "  u'type': u'Public School Districts',\n",
       "  u'website': u'www.wlps.org',\n",
       "  u'zip': u'06096'}]"
      ]
     },
     "execution_count": 14,
     "metadata": {},
     "output_type": "execute_result"
    }
   ],
   "source": [
    "find_district_code(\"WINDSOR\")"
   ]
  },
  {
   "cell_type": "code",
   "execution_count": 15,
   "metadata": {
    "collapsed": false
   },
   "outputs": [],
   "source": [
    "def fix_record(df, drg_distname, record):\n",
    "    ret = df.copy()\n",
    "    i = with_codes[with_codes[\"drg_distname\"] == drg_distname].index\n",
    "    row = with_codes.iloc[i]\n",
    "            \n",
    "    ret.iloc[i] = [row[\"drg\"].values[0],\n",
    "                   row[\"drg_distname\"].values[0],\n",
    "                   record[\"district_code\"],\n",
    "                  record[\"school\"]]\n",
    "    \n",
    "    return ret\n",
    "    \n",
    "fixed = fix_record(with_codes, \"WINDSOR\", find_district_code(\"WINDSOR\")[0])"
   ]
  },
  {
   "cell_type": "code",
   "execution_count": 16,
   "metadata": {
    "collapsed": false
   },
   "outputs": [
    {
     "data": {
      "text/html": [
       "<div>\n",
       "<table border=\"1\" class=\"dataframe\">\n",
       "  <thead>\n",
       "    <tr style=\"text-align: right;\">\n",
       "      <th></th>\n",
       "      <th>drg</th>\n",
       "      <th>drg_distname</th>\n",
       "      <th>school_code</th>\n",
       "      <th>district_name_check</th>\n",
       "    </tr>\n",
       "  </thead>\n",
       "  <tbody>\n",
       "    <tr>\n",
       "      <th>83</th>\n",
       "      <td>D</td>\n",
       "      <td>WINDSOR</td>\n",
       "      <td>1640011</td>\n",
       "      <td>Windsor School District</td>\n",
       "    </tr>\n",
       "  </tbody>\n",
       "</table>\n",
       "</div>"
      ],
      "text/plain": [
       "   drg drg_distname school_code      district_name_check\n",
       "83   D      WINDSOR     1640011  Windsor School District"
      ]
     },
     "execution_count": 16,
     "metadata": {},
     "output_type": "execute_result"
    }
   ],
   "source": [
    "fixed[fixed[\"drg_distname\"] == \"WINDSOR\"]"
   ]
  },
  {
   "cell_type": "markdown",
   "metadata": {},
   "source": [
    "## WOODSTOCK"
   ]
  },
  {
   "cell_type": "code",
   "execution_count": 17,
   "metadata": {
    "collapsed": false
   },
   "outputs": [
    {
     "data": {
      "text/html": [
       "<div>\n",
       "<table border=\"1\" class=\"dataframe\">\n",
       "  <thead>\n",
       "    <tr style=\"text-align: right;\">\n",
       "      <th></th>\n",
       "      <th>drg</th>\n",
       "      <th>drg_distname</th>\n",
       "      <th>school_code</th>\n",
       "      <th>district_name_check</th>\n",
       "    </tr>\n",
       "  </thead>\n",
       "  <tbody>\n",
       "    <tr>\n",
       "      <th>117</th>\n",
       "      <td>E</td>\n",
       "      <td>WOODSTOCK</td>\n",
       "      <td>None</td>\n",
       "      <td>None</td>\n",
       "    </tr>\n",
       "    <tr>\n",
       "      <th>159</th>\n",
       "      <td>H</td>\n",
       "      <td>NORWICH</td>\n",
       "      <td>None</td>\n",
       "      <td>None</td>\n",
       "    </tr>\n",
       "    <tr>\n",
       "      <th>160</th>\n",
       "      <td>H</td>\n",
       "      <td>STAMFORD</td>\n",
       "      <td>None</td>\n",
       "      <td>None</td>\n",
       "    </tr>\n",
       "    <tr>\n",
       "      <th>162</th>\n",
       "      <td>I</td>\n",
       "      <td>BRIDGEPORT</td>\n",
       "      <td>None</td>\n",
       "      <td>None</td>\n",
       "    </tr>\n",
       "  </tbody>\n",
       "</table>\n",
       "</div>"
      ],
      "text/plain": [
       "    drg drg_distname school_code district_name_check\n",
       "117   E    WOODSTOCK        None                None\n",
       "159   H      NORWICH        None                None\n",
       "160   H     STAMFORD        None                None\n",
       "162   I   BRIDGEPORT        None                None"
      ]
     },
     "execution_count": 17,
     "metadata": {},
     "output_type": "execute_result"
    }
   ],
   "source": [
    "# Let's see what's still broken\n",
    "\n",
    "fixed[fixed[\"school_code\"].isnull()]\n"
   ]
  },
  {
   "cell_type": "code",
   "execution_count": 18,
   "metadata": {
    "collapsed": false
   },
   "outputs": [
    {
     "data": {
      "text/plain": [
       "[{u'city': u'Woodstock',\n",
       "  u'district': u'Woodstock School District',\n",
       "  u'district_code': u'1690011',\n",
       "  u'education_program': u'',\n",
       "  u'fax': u'',\n",
       "  u'grade_1': u'',\n",
       "  u'grade_10': u'',\n",
       "  u'grade_11': u'',\n",
       "  u'grade_12': u'',\n",
       "  u'grade_2': u'',\n",
       "  u'grade_3': u'',\n",
       "  u'grade_4': u'',\n",
       "  u'grade_5': u'',\n",
       "  u'grade_6': u'',\n",
       "  u'grade_7': u'',\n",
       "  u'grade_8': u'',\n",
       "  u'grade_9': u'',\n",
       "  u'inter_district_magnet': u'',\n",
       "  u'kindergarten': u'',\n",
       "  u'phone': u'860-928-7453',\n",
       "  u'pre_kindergarten': u'',\n",
       "  u'program_type': u'',\n",
       "  u'school': u'Woodstock School District',\n",
       "  u'school_code': u'1690011',\n",
       "  u'state': u'CT',\n",
       "  u'street': u'147 A Route 169',\n",
       "  u'type': u'Public School Districts',\n",
       "  u'website': u'www.woodstockschools.net',\n",
       "  u'zip': u'06281'},\n",
       " {u'city': u'Woodstock',\n",
       "  u'district': u'Woodstock Academy District',\n",
       "  u'district_code': u'9030022',\n",
       "  u'education_program': u'',\n",
       "  u'fax': u'',\n",
       "  u'grade_1': u'',\n",
       "  u'grade_10': u'',\n",
       "  u'grade_11': u'',\n",
       "  u'grade_12': u'',\n",
       "  u'grade_2': u'',\n",
       "  u'grade_3': u'',\n",
       "  u'grade_4': u'',\n",
       "  u'grade_5': u'',\n",
       "  u'grade_6': u'',\n",
       "  u'grade_7': u'',\n",
       "  u'grade_8': u'',\n",
       "  u'grade_9': u'',\n",
       "  u'inter_district_magnet': u'',\n",
       "  u'kindergarten': u'',\n",
       "  u'phone': u'860-928-6575',\n",
       "  u'pre_kindergarten': u'',\n",
       "  u'program_type': u'',\n",
       "  u'school': u'Woodstock Academy District',\n",
       "  u'school_code': u'9030022',\n",
       "  u'state': u'CT',\n",
       "  u'street': u'57 Academy Road',\n",
       "  u'type': u'Endowed and Incorporated Academies Districts',\n",
       "  u'website': u'',\n",
       "  u'zip': u'06281'}]"
      ]
     },
     "execution_count": 18,
     "metadata": {},
     "output_type": "execute_result"
    }
   ],
   "source": [
    "find_district_code(\"WOODSTOCK\")"
   ]
  },
  {
   "cell_type": "code",
   "execution_count": 19,
   "metadata": {
    "collapsed": false
   },
   "outputs": [],
   "source": [
    "# Record 0 looks right\n",
    "fixed = fix_record(fixed, \"WOODSTOCK\", find_district_code(\"WOODSTOCK\")[0])"
   ]
  },
  {
   "cell_type": "code",
   "execution_count": 20,
   "metadata": {
    "collapsed": false
   },
   "outputs": [
    {
     "data": {
      "text/html": [
       "<div>\n",
       "<table border=\"1\" class=\"dataframe\">\n",
       "  <thead>\n",
       "    <tr style=\"text-align: right;\">\n",
       "      <th></th>\n",
       "      <th>drg</th>\n",
       "      <th>drg_distname</th>\n",
       "      <th>school_code</th>\n",
       "      <th>district_name_check</th>\n",
       "    </tr>\n",
       "  </thead>\n",
       "  <tbody>\n",
       "    <tr>\n",
       "      <th>159</th>\n",
       "      <td>H</td>\n",
       "      <td>NORWICH</td>\n",
       "      <td>None</td>\n",
       "      <td>None</td>\n",
       "    </tr>\n",
       "    <tr>\n",
       "      <th>160</th>\n",
       "      <td>H</td>\n",
       "      <td>STAMFORD</td>\n",
       "      <td>None</td>\n",
       "      <td>None</td>\n",
       "    </tr>\n",
       "    <tr>\n",
       "      <th>162</th>\n",
       "      <td>I</td>\n",
       "      <td>BRIDGEPORT</td>\n",
       "      <td>None</td>\n",
       "      <td>None</td>\n",
       "    </tr>\n",
       "  </tbody>\n",
       "</table>\n",
       "</div>"
      ],
      "text/plain": [
       "    drg drg_distname school_code district_name_check\n",
       "159   H      NORWICH        None                None\n",
       "160   H     STAMFORD        None                None\n",
       "162   I   BRIDGEPORT        None                None"
      ]
     },
     "execution_count": 20,
     "metadata": {},
     "output_type": "execute_result"
    }
   ],
   "source": [
    "fixed[fixed[\"school_code\"].isnull()]"
   ]
  },
  {
   "cell_type": "markdown",
   "metadata": {},
   "source": [
    "# 3. NORWICH"
   ]
  },
  {
   "cell_type": "code",
   "execution_count": 21,
   "metadata": {
    "collapsed": false
   },
   "outputs": [
    {
     "data": {
      "text/plain": [
       "[{u'city': u'Norwich',\n",
       "  u'district': u'Norwich School District',\n",
       "  u'district_code': u'1040011',\n",
       "  u'education_program': u'',\n",
       "  u'fax': u'',\n",
       "  u'grade_1': u'',\n",
       "  u'grade_10': u'',\n",
       "  u'grade_11': u'',\n",
       "  u'grade_12': u'',\n",
       "  u'grade_2': u'',\n",
       "  u'grade_3': u'',\n",
       "  u'grade_4': u'',\n",
       "  u'grade_5': u'',\n",
       "  u'grade_6': u'',\n",
       "  u'grade_7': u'',\n",
       "  u'grade_8': u'',\n",
       "  u'grade_9': u'',\n",
       "  u'inter_district_magnet': u'',\n",
       "  u'kindergarten': u'',\n",
       "  u'phone': u'860-823-4200',\n",
       "  u'pre_kindergarten': u'',\n",
       "  u'program_type': u'',\n",
       "  u'school': u'Norwich School District',\n",
       "  u'school_code': u'1040011',\n",
       "  u'state': u'CT',\n",
       "  u'street': u'90 Town Street',\n",
       "  u'type': u'Public School Districts',\n",
       "  u'website': u'www.norwichpublicschools.org',\n",
       "  u'zip': u'06360'},\n",
       " {u'city': u'Norwich',\n",
       "  u'district': u'Norwich Free Academy District',\n",
       "  u'district_code': u'9010022',\n",
       "  u'education_program': u'',\n",
       "  u'fax': u'',\n",
       "  u'grade_1': u'',\n",
       "  u'grade_10': u'',\n",
       "  u'grade_11': u'',\n",
       "  u'grade_12': u'',\n",
       "  u'grade_2': u'',\n",
       "  u'grade_3': u'',\n",
       "  u'grade_4': u'',\n",
       "  u'grade_5': u'',\n",
       "  u'grade_6': u'',\n",
       "  u'grade_7': u'',\n",
       "  u'grade_8': u'',\n",
       "  u'grade_9': u'',\n",
       "  u'inter_district_magnet': u'',\n",
       "  u'kindergarten': u'',\n",
       "  u'phone': u'860-887-2505',\n",
       "  u'pre_kindergarten': u'',\n",
       "  u'program_type': u'',\n",
       "  u'school': u'Norwich Free Academy District',\n",
       "  u'school_code': u'9010022',\n",
       "  u'state': u'CT',\n",
       "  u'street': u'305 Broadway',\n",
       "  u'type': u'Endowed and Incorporated Academies Districts',\n",
       "  u'website': u'',\n",
       "  u'zip': u'06360'}]"
      ]
     },
     "execution_count": 21,
     "metadata": {},
     "output_type": "execute_result"
    }
   ],
   "source": [
    "find_district_code(\"NORWICH\")"
   ]
  },
  {
   "cell_type": "code",
   "execution_count": 22,
   "metadata": {
    "collapsed": true
   },
   "outputs": [],
   "source": [
    "# Record 0 looks right\n",
    "fixed = fix_record(fixed, \"NORWICH\", find_district_code(\"NORWICH\")[0])"
   ]
  },
  {
   "cell_type": "code",
   "execution_count": 23,
   "metadata": {
    "collapsed": false
   },
   "outputs": [
    {
     "data": {
      "text/html": [
       "<div>\n",
       "<table border=\"1\" class=\"dataframe\">\n",
       "  <thead>\n",
       "    <tr style=\"text-align: right;\">\n",
       "      <th></th>\n",
       "      <th>drg</th>\n",
       "      <th>drg_distname</th>\n",
       "      <th>school_code</th>\n",
       "      <th>district_name_check</th>\n",
       "    </tr>\n",
       "  </thead>\n",
       "  <tbody>\n",
       "    <tr>\n",
       "      <th>160</th>\n",
       "      <td>H</td>\n",
       "      <td>STAMFORD</td>\n",
       "      <td>None</td>\n",
       "      <td>None</td>\n",
       "    </tr>\n",
       "    <tr>\n",
       "      <th>162</th>\n",
       "      <td>I</td>\n",
       "      <td>BRIDGEPORT</td>\n",
       "      <td>None</td>\n",
       "      <td>None</td>\n",
       "    </tr>\n",
       "  </tbody>\n",
       "</table>\n",
       "</div>"
      ],
      "text/plain": [
       "    drg drg_distname school_code district_name_check\n",
       "160   H     STAMFORD        None                None\n",
       "162   I   BRIDGEPORT        None                None"
      ]
     },
     "execution_count": 23,
     "metadata": {},
     "output_type": "execute_result"
    }
   ],
   "source": [
    "# What's still missing?\n",
    "fixed[fixed[\"school_code\"].isnull()]"
   ]
  },
  {
   "cell_type": "markdown",
   "metadata": {},
   "source": [
    "# 4. Stafmord\n"
   ]
  },
  {
   "cell_type": "code",
   "execution_count": 24,
   "metadata": {
    "collapsed": false
   },
   "outputs": [
    {
     "data": {
      "text/plain": [
       "{u'city': u'Stamford',\n",
       " u'district': u'Stamford School District',\n",
       " u'district_code': u'1350011',\n",
       " u'education_program': u'',\n",
       " u'fax': u'',\n",
       " u'grade_1': u'',\n",
       " u'grade_10': u'',\n",
       " u'grade_11': u'',\n",
       " u'grade_12': u'',\n",
       " u'grade_2': u'',\n",
       " u'grade_3': u'',\n",
       " u'grade_4': u'',\n",
       " u'grade_5': u'',\n",
       " u'grade_6': u'',\n",
       " u'grade_7': u'',\n",
       " u'grade_8': u'',\n",
       " u'grade_9': u'',\n",
       " u'inter_district_magnet': u'',\n",
       " u'kindergarten': u'',\n",
       " u'phone': u'203-977-4543',\n",
       " u'pre_kindergarten': u'',\n",
       " u'program_type': u'',\n",
       " u'school': u'Stamford School District',\n",
       " u'school_code': u'1350011',\n",
       " u'state': u'CT',\n",
       " u'street': u'888 Washington Boulevard, Box 9310',\n",
       " u'type': u'Public School Districts',\n",
       " u'website': u'www.stamfordpublicschools.org',\n",
       " u'zip': u'06901'}"
      ]
     },
     "execution_count": 24,
     "metadata": {},
     "output_type": "execute_result"
    }
   ],
   "source": [
    "# 1 looks right:\n",
    "find_district_code(\"STAMFORD\")[1]"
   ]
  },
  {
   "cell_type": "code",
   "execution_count": 25,
   "metadata": {
    "collapsed": true
   },
   "outputs": [],
   "source": [
    "fixed = fix_record(fixed, \"STAMFORD\", find_district_code(\"STAMFORD\")[1])"
   ]
  },
  {
   "cell_type": "code",
   "execution_count": 26,
   "metadata": {
    "collapsed": false
   },
   "outputs": [
    {
     "data": {
      "text/html": [
       "<div>\n",
       "<table border=\"1\" class=\"dataframe\">\n",
       "  <thead>\n",
       "    <tr style=\"text-align: right;\">\n",
       "      <th></th>\n",
       "      <th>drg</th>\n",
       "      <th>drg_distname</th>\n",
       "      <th>school_code</th>\n",
       "      <th>district_name_check</th>\n",
       "    </tr>\n",
       "  </thead>\n",
       "  <tbody>\n",
       "    <tr>\n",
       "      <th>162</th>\n",
       "      <td>I</td>\n",
       "      <td>BRIDGEPORT</td>\n",
       "      <td>None</td>\n",
       "      <td>None</td>\n",
       "    </tr>\n",
       "  </tbody>\n",
       "</table>\n",
       "</div>"
      ],
      "text/plain": [
       "    drg drg_distname school_code district_name_check\n",
       "162   I   BRIDGEPORT        None                None"
      ]
     },
     "execution_count": 26,
     "metadata": {},
     "output_type": "execute_result"
    }
   ],
   "source": [
    "# What's still missing?\n",
    "fixed[fixed[\"school_code\"].isnull()]"
   ]
  },
  {
   "cell_type": "markdown",
   "metadata": {},
   "source": [
    "# 5. Bridgeport"
   ]
  },
  {
   "cell_type": "code",
   "execution_count": 27,
   "metadata": {
    "collapsed": false
   },
   "outputs": [
    {
     "data": {
      "text/plain": [
       "{u'city': u'Bridgeport',\n",
       " u'district': u'Bridgeport School District',\n",
       " u'district_code': u'0150011',\n",
       " u'education_program': u'',\n",
       " u'fax': u'',\n",
       " u'grade_1': u'',\n",
       " u'grade_10': u'',\n",
       " u'grade_11': u'',\n",
       " u'grade_12': u'',\n",
       " u'grade_2': u'',\n",
       " u'grade_3': u'',\n",
       " u'grade_4': u'',\n",
       " u'grade_5': u'',\n",
       " u'grade_6': u'',\n",
       " u'grade_7': u'',\n",
       " u'grade_8': u'',\n",
       " u'grade_9': u'',\n",
       " u'inter_district_magnet': u'',\n",
       " u'kindergarten': u'',\n",
       " u'phone': u'203-576-7302',\n",
       " u'pre_kindergarten': u'',\n",
       " u'program_type': u'',\n",
       " u'school': u'Bridgeport School District',\n",
       " u'school_code': u'0150011',\n",
       " u'state': u'CT',\n",
       " u'street': u'45 Lyon Terrace, Rm 303',\n",
       " u'type': u'Public School Districts',\n",
       " u'website': u'www.bridgeportedu.com/',\n",
       " u'zip': u'06604'}"
      ]
     },
     "execution_count": 27,
     "metadata": {},
     "output_type": "execute_result"
    }
   ],
   "source": [
    "# 0 looks right\n",
    "find_district_code(\"BRIDGEPORT\")[0]"
   ]
  },
  {
   "cell_type": "code",
   "execution_count": 28,
   "metadata": {
    "collapsed": true
   },
   "outputs": [],
   "source": [
    "fixed = fix_record(fixed, \"BRIDGEPORT\", find_district_code(\"BRIDGEPORT\")[0])\n"
   ]
  },
  {
   "cell_type": "markdown",
   "metadata": {},
   "source": [
    "# Finally generate CSV"
   ]
  },
  {
   "cell_type": "code",
   "execution_count": 29,
   "metadata": {
    "collapsed": false
   },
   "outputs": [
    {
     "data": {
      "text/html": [
       "<div>\n",
       "<table border=\"1\" class=\"dataframe\">\n",
       "  <thead>\n",
       "    <tr style=\"text-align: right;\">\n",
       "      <th></th>\n",
       "      <th>drg</th>\n",
       "      <th>drg_distname</th>\n",
       "      <th>school_code</th>\n",
       "      <th>district_name_check</th>\n",
       "    </tr>\n",
       "  </thead>\n",
       "  <tbody>\n",
       "  </tbody>\n",
       "</table>\n",
       "</div>"
      ],
      "text/plain": [
       "Empty DataFrame\n",
       "Columns: [drg, drg_distname, school_code, district_name_check]\n",
       "Index: []"
      ]
     },
     "execution_count": 29,
     "metadata": {},
     "output_type": "execute_result"
    }
   ],
   "source": [
    "# What's still missing?\n",
    "fixed[fixed[\"school_code\"].isnull()]"
   ]
  },
  {
   "cell_type": "code",
   "execution_count": 31,
   "metadata": {
    "collapsed": true
   },
   "outputs": [],
   "source": [
    "fixed.to_csv(\"output/drg.csv\", index=False)"
   ]
  },
  {
   "cell_type": "code",
   "execution_count": 32,
   "metadata": {
    "collapsed": true
   },
   "outputs": [],
   "source": [
    "# Copy to clean\n",
    "fixed.to_csv(\"../clean/drg.csv\", index=False)"
   ]
  },
  {
   "cell_type": "code",
   "execution_count": 33,
   "metadata": {
    "collapsed": false
   },
   "outputs": [
    {
     "data": {
      "text/plain": [
       "array(['A', 'B', 'C', 'D', 'E', 'F', 'G', 'H', 'I'], dtype=object)"
      ]
     },
     "execution_count": 33,
     "metadata": {},
     "output_type": "execute_result"
    }
   ],
   "source": [
    "# What are the DRGS? A- through what?\n",
    "fixed[\"drg\"].unique()"
   ]
  },
  {
   "cell_type": "code",
   "execution_count": null,
   "metadata": {
    "collapsed": true
   },
   "outputs": [],
   "source": []
  }
 ],
 "metadata": {
  "kernelspec": {
   "display_name": "Python 2",
   "language": "python",
   "name": "python2"
  },
  "language_info": {
   "codemirror_mode": {
    "name": "ipython",
    "version": 2
   },
   "file_extension": ".py",
   "mimetype": "text/x-python",
   "name": "python",
   "nbconvert_exporter": "python",
   "pygments_lexer": "ipython2",
   "version": "2.7.13"
  }
 },
 "nbformat": 4,
 "nbformat_minor": 0
}
