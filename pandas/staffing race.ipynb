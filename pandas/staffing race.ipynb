{
 "cells": [
  {
   "cell_type": "code",
   "execution_count": 4,
   "metadata": {
    "collapsed": true
   },
   "outputs": [],
   "source": [
    "import pandas as pd\n",
    "import numpy as np\n",
    "import getschools as gs"
   ]
  },
  {
   "cell_type": "code",
   "execution_count": 23,
   "metadata": {
    "collapsed": false
   },
   "outputs": [],
   "source": [
    "def get_df (year=\"2015-16\"):\n",
    "    ret = pd.read_csv(\"../scripts/noequals/staffing-race-\"+year+\".csv\",skiprows=1)\n",
    "    ret = gs.clean_colnames(ret)\n",
    "    ret[\"school\"] = ret[\"school\"].fillna(method=\"ffill\")\n",
    "    ret[\"district\"] = ret[\"district\"].fillna(method=\"ffill\")\n",
    "    \n",
    "    ret = gs.add_exact_matches(ret)\n",
    "    ret[\"year\"] = year\n",
    "    return ret\n",
    "\n",
    "df = get_df()\n"
   ]
  },
  {
   "cell_type": "code",
   "execution_count": 27,
   "metadata": {
    "collapsed": false
   },
   "outputs": [
    {
     "data": {
      "text/html": [
       "<div>\n",
       "<table border=\"1\" class=\"dataframe\">\n",
       "  <thead>\n",
       "    <tr style=\"text-align: right;\">\n",
       "      <th></th>\n",
       "      <th>district</th>\n",
       "      <th>school</th>\n",
       "      <th>race</th>\n",
       "      <th>count</th>\n",
       "      <th>pct_of_total</th>\n",
       "      <th>school_code</th>\n",
       "      <th>check_sch_col</th>\n",
       "      <th>check_dist_col</th>\n",
       "      <th>year</th>\n",
       "    </tr>\n",
       "  </thead>\n",
       "  <tbody>\n",
       "    <tr>\n",
       "      <th>0</th>\n",
       "      <td>Achievement First Hartford Academy Inc. District</td>\n",
       "      <td>Achievement First Hartford Academy Inc.</td>\n",
       "      <td>American Indian or Alaska Native</td>\n",
       "      <td>2</td>\n",
       "      <td>1.8</td>\n",
       "      <td>2880113</td>\n",
       "      <td>Achievement First Hartford Academy Inc.</td>\n",
       "      <td>Achievement First Hartford Academy Inc. District</td>\n",
       "      <td>2015-16</td>\n",
       "    </tr>\n",
       "    <tr>\n",
       "      <th>1</th>\n",
       "      <td>Achievement First Hartford Academy Inc. District</td>\n",
       "      <td>Achievement First Hartford Academy Inc.</td>\n",
       "      <td>Asian</td>\n",
       "      <td>5</td>\n",
       "      <td>4.5</td>\n",
       "      <td>2880113</td>\n",
       "      <td>Achievement First Hartford Academy Inc.</td>\n",
       "      <td>Achievement First Hartford Academy Inc. District</td>\n",
       "      <td>2015-16</td>\n",
       "    </tr>\n",
       "    <tr>\n",
       "      <th>2</th>\n",
       "      <td>Achievement First Hartford Academy Inc. District</td>\n",
       "      <td>Achievement First Hartford Academy Inc.</td>\n",
       "      <td>Black or African American</td>\n",
       "      <td>24</td>\n",
       "      <td>21.4</td>\n",
       "      <td>2880113</td>\n",
       "      <td>Achievement First Hartford Academy Inc.</td>\n",
       "      <td>Achievement First Hartford Academy Inc. District</td>\n",
       "      <td>2015-16</td>\n",
       "    </tr>\n",
       "    <tr>\n",
       "      <th>3</th>\n",
       "      <td>Achievement First Hartford Academy Inc. District</td>\n",
       "      <td>Achievement First Hartford Academy Inc.</td>\n",
       "      <td>Hispanic or Latino</td>\n",
       "      <td>5</td>\n",
       "      <td>4.5</td>\n",
       "      <td>2880113</td>\n",
       "      <td>Achievement First Hartford Academy Inc.</td>\n",
       "      <td>Achievement First Hartford Academy Inc. District</td>\n",
       "      <td>2015-16</td>\n",
       "    </tr>\n",
       "    <tr>\n",
       "      <th>4</th>\n",
       "      <td>Achievement First Hartford Academy Inc. District</td>\n",
       "      <td>Achievement First Hartford Academy Inc.</td>\n",
       "      <td>Two or More Races</td>\n",
       "      <td>1</td>\n",
       "      <td>0.9</td>\n",
       "      <td>2880113</td>\n",
       "      <td>Achievement First Hartford Academy Inc.</td>\n",
       "      <td>Achievement First Hartford Academy Inc. District</td>\n",
       "      <td>2015-16</td>\n",
       "    </tr>\n",
       "    <tr>\n",
       "      <th>5</th>\n",
       "      <td>Achievement First Hartford Academy Inc. District</td>\n",
       "      <td>Achievement First Hartford Academy Inc.</td>\n",
       "      <td>White</td>\n",
       "      <td>75</td>\n",
       "      <td>67.0</td>\n",
       "      <td>2880113</td>\n",
       "      <td>Achievement First Hartford Academy Inc.</td>\n",
       "      <td>Achievement First Hartford Academy Inc. District</td>\n",
       "      <td>2015-16</td>\n",
       "    </tr>\n",
       "    <tr>\n",
       "      <th>6</th>\n",
       "      <td>Amistad Academy District</td>\n",
       "      <td>Amistad Academy</td>\n",
       "      <td>Asian</td>\n",
       "      <td>2</td>\n",
       "      <td>1.8</td>\n",
       "      <td>2795113</td>\n",
       "      <td>Amistad Academy</td>\n",
       "      <td>Amistad Academy District</td>\n",
       "      <td>2015-16</td>\n",
       "    </tr>\n",
       "    <tr>\n",
       "      <th>7</th>\n",
       "      <td>Amistad Academy District</td>\n",
       "      <td>Amistad Academy</td>\n",
       "      <td>Black or African American</td>\n",
       "      <td>15</td>\n",
       "      <td>13.5</td>\n",
       "      <td>2795113</td>\n",
       "      <td>Amistad Academy</td>\n",
       "      <td>Amistad Academy District</td>\n",
       "      <td>2015-16</td>\n",
       "    </tr>\n",
       "    <tr>\n",
       "      <th>8</th>\n",
       "      <td>Amistad Academy District</td>\n",
       "      <td>Amistad Academy</td>\n",
       "      <td>Hispanic or Latino</td>\n",
       "      <td>7</td>\n",
       "      <td>6.3</td>\n",
       "      <td>2795113</td>\n",
       "      <td>Amistad Academy</td>\n",
       "      <td>Amistad Academy District</td>\n",
       "      <td>2015-16</td>\n",
       "    </tr>\n",
       "    <tr>\n",
       "      <th>9</th>\n",
       "      <td>Amistad Academy District</td>\n",
       "      <td>Amistad Academy</td>\n",
       "      <td>White</td>\n",
       "      <td>87</td>\n",
       "      <td>78.4</td>\n",
       "      <td>2795113</td>\n",
       "      <td>Amistad Academy</td>\n",
       "      <td>Amistad Academy District</td>\n",
       "      <td>2015-16</td>\n",
       "    </tr>\n",
       "  </tbody>\n",
       "</table>\n",
       "</div>"
      ],
      "text/plain": [
       "                                           district  \\\n",
       "0  Achievement First Hartford Academy Inc. District   \n",
       "1  Achievement First Hartford Academy Inc. District   \n",
       "2  Achievement First Hartford Academy Inc. District   \n",
       "3  Achievement First Hartford Academy Inc. District   \n",
       "4  Achievement First Hartford Academy Inc. District   \n",
       "5  Achievement First Hartford Academy Inc. District   \n",
       "6                          Amistad Academy District   \n",
       "7                          Amistad Academy District   \n",
       "8                          Amistad Academy District   \n",
       "9                          Amistad Academy District   \n",
       "\n",
       "                                    school                              race  \\\n",
       "0  Achievement First Hartford Academy Inc.  American Indian or Alaska Native   \n",
       "1  Achievement First Hartford Academy Inc.                             Asian   \n",
       "2  Achievement First Hartford Academy Inc.         Black or African American   \n",
       "3  Achievement First Hartford Academy Inc.                Hispanic or Latino   \n",
       "4  Achievement First Hartford Academy Inc.                 Two or More Races   \n",
       "5  Achievement First Hartford Academy Inc.                             White   \n",
       "6                          Amistad Academy                             Asian   \n",
       "7                          Amistad Academy         Black or African American   \n",
       "8                          Amistad Academy                Hispanic or Latino   \n",
       "9                          Amistad Academy                             White   \n",
       "\n",
       "  count  pct_of_total school_code                            check_sch_col  \\\n",
       "0     2           1.8     2880113  Achievement First Hartford Academy Inc.   \n",
       "1     5           4.5     2880113  Achievement First Hartford Academy Inc.   \n",
       "2    24          21.4     2880113  Achievement First Hartford Academy Inc.   \n",
       "3     5           4.5     2880113  Achievement First Hartford Academy Inc.   \n",
       "4     1           0.9     2880113  Achievement First Hartford Academy Inc.   \n",
       "5    75          67.0     2880113  Achievement First Hartford Academy Inc.   \n",
       "6     2           1.8     2795113                          Amistad Academy   \n",
       "7    15          13.5     2795113                          Amistad Academy   \n",
       "8     7           6.3     2795113                          Amistad Academy   \n",
       "9    87          78.4     2795113                          Amistad Academy   \n",
       "\n",
       "                                     check_dist_col     year  \n",
       "0  Achievement First Hartford Academy Inc. District  2015-16  \n",
       "1  Achievement First Hartford Academy Inc. District  2015-16  \n",
       "2  Achievement First Hartford Academy Inc. District  2015-16  \n",
       "3  Achievement First Hartford Academy Inc. District  2015-16  \n",
       "4  Achievement First Hartford Academy Inc. District  2015-16  \n",
       "5  Achievement First Hartford Academy Inc. District  2015-16  \n",
       "6                          Amistad Academy District  2015-16  \n",
       "7                          Amistad Academy District  2015-16  \n",
       "8                          Amistad Academy District  2015-16  \n",
       "9                          Amistad Academy District  2015-16  "
      ]
     },
     "execution_count": 27,
     "metadata": {},
     "output_type": "execute_result"
    }
   ],
   "source": [
    "df.head(10)"
   ]
  },
  {
   "cell_type": "code",
   "execution_count": 21,
   "metadata": {
    "collapsed": false
   },
   "outputs": [
    {
     "data": {
      "text/plain": [
       "41"
      ]
     },
     "execution_count": 21,
     "metadata": {},
     "output_type": "execute_result"
    }
   ],
   "source": [
    "len(df[df[\"school_code\"].isnull()][\"school\"].unique())"
   ]
  },
  {
   "cell_type": "code",
   "execution_count": 22,
   "metadata": {
    "collapsed": false
   },
   "outputs": [
    {
     "data": {
      "text/plain": [
       "1196"
      ]
     },
     "execution_count": 22,
     "metadata": {},
     "output_type": "execute_result"
    }
   ],
   "source": [
    "len(df[df[\"school_code\"].notnull()][\"school\"].unique())"
   ]
  },
  {
   "cell_type": "code",
   "execution_count": 26,
   "metadata": {
    "collapsed": true
   },
   "outputs": [],
   "source": [
    "get_df(year=\"2015-16\").to_csv(\"../clean/staff_race_2015_16.csv\",index=False)"
   ]
  },
  {
   "cell_type": "code",
   "execution_count": 29,
   "metadata": {
    "collapsed": false
   },
   "outputs": [
    {
     "data": {
      "text/plain": [
       "White                                        1278\n",
       "Hispanic or Latino                            651\n",
       "Black or African American                     526\n",
       "Asian                                         364\n",
       "American Indian or Alaska Native               62\n",
       "Two or More Races                              40\n",
       "Native Hawaiian or Other Pacific Islander      21\n",
       "Name: race, dtype: int64"
      ]
     },
     "execution_count": 29,
     "metadata": {},
     "output_type": "execute_result"
    }
   ],
   "source": [
    "df[\"race\"].value_counts()"
   ]
  },
  {
   "cell_type": "code",
   "execution_count": null,
   "metadata": {
    "collapsed": true
   },
   "outputs": [],
   "source": []
  }
 ],
 "metadata": {
  "kernelspec": {
   "display_name": "Python 2",
   "language": "python",
   "name": "python2"
  },
  "language_info": {
   "codemirror_mode": {
    "name": "ipython",
    "version": 2
   },
   "file_extension": ".py",
   "mimetype": "text/x-python",
   "name": "python",
   "nbconvert_exporter": "python",
   "pygments_lexer": "ipython2",
   "version": "2.7.13"
  }
 },
 "nbformat": 4,
 "nbformat_minor": 0
}
