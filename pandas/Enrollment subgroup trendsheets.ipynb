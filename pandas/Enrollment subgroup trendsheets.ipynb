{
 "cells": [
  {
   "cell_type": "code",
   "execution_count": 1,
   "metadata": {
    "collapsed": true
   },
   "outputs": [],
   "source": [
    "import pandas as pd, re\n",
    "import getschools as gs\n"
   ]
  },
  {
   "cell_type": "code",
   "execution_count": 47,
   "metadata": {
    "collapsed": false
   },
   "outputs": [
    {
     "data": {
      "text/html": [
       "<div>\n",
       "<table border=\"1\" class=\"dataframe\">\n",
       "  <thead>\n",
       "    <tr style=\"text-align: right;\">\n",
       "      <th></th>\n",
       "      <th>school_code</th>\n",
       "      <th>district_code</th>\n",
       "      <th>district</th>\n",
       "      <th>school</th>\n",
       "      <th>no</th>\n",
       "      <th>yes</th>\n",
       "      <th>total</th>\n",
       "      <th>year</th>\n",
       "    </tr>\n",
       "  </thead>\n",
       "  <tbody>\n",
       "    <tr>\n",
       "      <th>0</th>\n",
       "      <td>2880113</td>\n",
       "      <td>2880013</td>\n",
       "      <td>Achievement First Hartford Academy Inc. District</td>\n",
       "      <td>Achievement First Hartford Academy Inc.</td>\n",
       "      <td>840</td>\n",
       "      <td>30</td>\n",
       "      <td>870</td>\n",
       "      <td>2013-14</td>\n",
       "    </tr>\n",
       "    <tr>\n",
       "      <th>1</th>\n",
       "      <td>2795113</td>\n",
       "      <td>2790013</td>\n",
       "      <td>Amistad Academy District</td>\n",
       "      <td>Amistad Academy</td>\n",
       "      <td>835</td>\n",
       "      <td>102</td>\n",
       "      <td>937</td>\n",
       "      <td>2013-14</td>\n",
       "    </tr>\n",
       "    <tr>\n",
       "      <th>2</th>\n",
       "      <td>0010111</td>\n",
       "      <td>0010011</td>\n",
       "      <td>Andover School District</td>\n",
       "      <td>Andover Elementary School</td>\n",
       "      <td>*</td>\n",
       "      <td>*</td>\n",
       "      <td>298</td>\n",
       "      <td>2013-14</td>\n",
       "    </tr>\n",
       "    <tr>\n",
       "      <th>3</th>\n",
       "      <td>0026111</td>\n",
       "      <td>0020011</td>\n",
       "      <td>Ansonia School District</td>\n",
       "      <td>Ansonia High School</td>\n",
       "      <td>589</td>\n",
       "      <td>13</td>\n",
       "      <td>602</td>\n",
       "      <td>2013-14</td>\n",
       "    </tr>\n",
       "    <tr>\n",
       "      <th>4</th>\n",
       "      <td>0025111</td>\n",
       "      <td>0020011</td>\n",
       "      <td>Ansonia School District</td>\n",
       "      <td>Ansonia Middle School</td>\n",
       "      <td>484</td>\n",
       "      <td>9</td>\n",
       "      <td>493</td>\n",
       "      <td>2013-14</td>\n",
       "    </tr>\n",
       "  </tbody>\n",
       "</table>\n",
       "</div>"
      ],
      "text/plain": [
       "  school_code district_code                                          district  \\\n",
       "0     2880113       2880013  Achievement First Hartford Academy Inc. District   \n",
       "1     2795113       2790013                          Amistad Academy District   \n",
       "2     0010111       0010011                           Andover School District   \n",
       "3     0026111       0020011                           Ansonia School District   \n",
       "4     0025111       0020011                           Ansonia School District   \n",
       "\n",
       "                                    school   no  yes total     year  \n",
       "0  Achievement First Hartford Academy Inc.  840   30   870  2013-14  \n",
       "1                          Amistad Academy  835  102   937  2013-14  \n",
       "2                Andover Elementary School    *    *   298  2013-14  \n",
       "3                      Ansonia High School  589   13   602  2013-14  \n",
       "4                    Ansonia Middle School  484    9   493  2013-14  "
      ]
     },
     "execution_count": 47,
     "metadata": {},
     "output_type": "execute_result"
    }
   ],
   "source": [
    "def get_sheet(yearstr, subgroup):\n",
    "    \n",
    "    ret = pd.read_csv(\"../scripts/brute/csv/EnrollmentYearExport-\"+yearstr+\"-\"+subgroup+\".csv\")\n",
    "    ret[\"year\"] = yearstr\n",
    "    \n",
    "    ret[\"district_code\"] = ret[\"district_code\"].astype(str)\n",
    "    ret[\"school_code\"] = ret[\"school_code\"].astype(str)\n",
    "    \n",
    "    ret[\"district_code\"] = ret[\"district_code\"].str.replace(\"\\\"\",\"\")\n",
    "    ret[\"school_code\"] = ret[\"school_code\"].str.replace(\"\\\"\",\"\")\n",
    "\n",
    "    ret[\"district_code\"] = ret[\"district_code\"].astype(str).str.zfill(7)\n",
    "    ret[\"school_code\"] = ret[\"school_code\"].astype(str).str.zfill(7)\n",
    "\n",
    "    #print \"Adding \" + str(len(ret.index)) + \" rows\"\n",
    "\n",
    "    return ret\n",
    "\n",
    "get_sheet(\"2013-14\",\"ELL\").head()\n"
   ]
  },
  {
   "cell_type": "code",
   "execution_count": 48,
   "metadata": {
    "collapsed": false
   },
   "outputs": [],
   "source": [
    "years = map(lambda x: \"20\" + str(x).zfill(2) + \"-\" + str(x+1).zfill(2),range(7,17))\n",
    "\n",
    "groups = {\n",
    "    \"ell\":\"ELL\",\n",
    "    \"gender\":\"Gender\",\n",
    "    \"grade\":\"Grade\",\n",
    "    \"lunch\":\"Lunch\",\n",
    "    \"race\":\"Race\",\n",
    "    \"sped\":\"Special+Education+\"\n",
    "}\n",
    "\n",
    "def make_trend(subgroup):\n",
    "    \n",
    "    sheets = []\n",
    "    for y in years:\n",
    "        sheets.append(get_sheet(y,subgroup))\n",
    "    \n",
    "    #return len(sheets)\n",
    "    ret = pd.concat(sheets)\n",
    "    \n",
    "    return ret\n",
    "\n",
    "for g in groups:\n",
    "    make_trend(groups[g]).to_csv(\"../clean/enrollment-trend-\" + g + \".csv\",\n",
    "                                 index=False)"
   ]
  },
  {
   "cell_type": "markdown",
   "metadata": {},
   "source": [
    "#### "
   ]
  },
  {
   "cell_type": "code",
   "execution_count": null,
   "metadata": {
    "collapsed": true
   },
   "outputs": [],
   "source": []
  },
  {
   "cell_type": "code",
   "execution_count": null,
   "metadata": {
    "collapsed": true
   },
   "outputs": [],
   "source": []
  },
  {
   "cell_type": "code",
   "execution_count": null,
   "metadata": {
    "collapsed": true
   },
   "outputs": [],
   "source": []
  }
 ],
 "metadata": {
  "kernelspec": {
   "display_name": "Python 2",
   "language": "python",
   "name": "python2"
  },
  "language_info": {
   "codemirror_mode": {
    "name": "ipython",
    "version": 2
   },
   "file_extension": ".py",
   "mimetype": "text/x-python",
   "name": "python",
   "nbconvert_exporter": "python",
   "pygments_lexer": "ipython2",
   "version": "2.7.13"
  }
 },
 "nbformat": 4,
 "nbformat_minor": 0
}
