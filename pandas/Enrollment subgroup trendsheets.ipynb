{
 "cells": [
  {
   "cell_type": "code",
   "execution_count": 71,
   "metadata": {
    "collapsed": true
   },
   "outputs": [],
   "source": [
    "import pandas as pd, re\n",
    "import getschools as gs\n"
   ]
  },
  {
   "cell_type": "code",
   "execution_count": 72,
   "metadata": {
    "collapsed": false
   },
   "outputs": [],
   "source": [
    "def clean_race_cols(df):\n",
    "    race_aliases = {\n",
    "        \"black\":[\"black_not_of_hispanic_origin\",\"black_or_african_american\"],\n",
    "        \"white\":[\"white_not_of_hispanic_origin\"],\n",
    "        \"asian\":[],\n",
    "        \"hispanic\":[\"hispanic_latino\",\"hispanic_latino_of_any_race\"],\n",
    "        \"other\":[\"american_indian\",\"american_indian_or_alaska_native\",\"native_hawaiian_or_other_pacific_islander\",\n",
    "                 \"not_reported\",\"two_or_more_races\"]\n",
    "    }\n",
    "    \n",
    "    ret = df.copy()\n",
    "    ret[\"tot_check\"] = pd.to_numeric(ret[\"total\"],errors=\"coerce\").fillna(0)\n",
    "    \n",
    "    for k in race_aliases:\n",
    "        print k\n",
    "        if k not in ret.columns:\n",
    "            ret[k] = 0\n",
    "        else:\n",
    "            ret[k] = pd.to_numeric(ret[k], errors=\"coerce\").fillna(0)\n",
    "            print \"starting \", k, \"with\", k\n",
    "        for alias in race_aliases[k]:\n",
    "            try:\n",
    "                print \"Adding \", alias, \" to \", k\n",
    "                ret[alias] = pd.to_numeric(ret[alias],errors=\"coerce\").fillna(0)\n",
    "                ret[k] += ret[alias]\n",
    "            except:\n",
    "                pass\n",
    "        ret[\"tot_check\"] -= pd.to_numeric(ret[k],errors=\"coerce\").fillna(0)\n",
    "        print \"tot_check sum\", ret[\"tot_check\"].sum()\n",
    "\n",
    "\n",
    "    ret[\"oth_total\"] = pd.to_numeric(ret[\"total\"],errors=\"coerce\").fillna(0)\\\n",
    "    - ret[\"black\"] - ret[\"white\"] - ret[\"hispanic\"] - ret[\"asian\"]\n",
    "    \n",
    "    ret[\"oth_tot_check\"] = pd.to_numeric(ret[\"total\"],errors=\"coerce\").fillna(0)\\\n",
    "    - ret[\"black\"] - ret[\"white\"] - ret[\"hispanic\"] - ret[\"asian\"] - ret[\"oth_total\"]\n",
    "    \n",
    "    return ret\n",
    "    "
   ]
  },
  {
   "cell_type": "code",
   "execution_count": 73,
   "metadata": {
    "collapsed": false
   },
   "outputs": [
    {
     "data": {
      "text/html": [
       "<div>\n",
       "<table border=\"1\" class=\"dataframe\">\n",
       "  <thead>\n",
       "    <tr style=\"text-align: right;\">\n",
       "      <th></th>\n",
       "      <th>school_code</th>\n",
       "      <th>district_code</th>\n",
       "      <th>district</th>\n",
       "      <th>school</th>\n",
       "      <th>no</th>\n",
       "      <th>yes</th>\n",
       "      <th>total</th>\n",
       "      <th>year</th>\n",
       "    </tr>\n",
       "  </thead>\n",
       "  <tbody>\n",
       "    <tr>\n",
       "      <th>0</th>\n",
       "      <td>2880113</td>\n",
       "      <td>2880013</td>\n",
       "      <td>Achievement First Hartford Academy Inc. District</td>\n",
       "      <td>Achievement First Hartford Academy Inc.</td>\n",
       "      <td>840</td>\n",
       "      <td>30</td>\n",
       "      <td>870</td>\n",
       "      <td>2013-14</td>\n",
       "    </tr>\n",
       "    <tr>\n",
       "      <th>1</th>\n",
       "      <td>2795113</td>\n",
       "      <td>2790013</td>\n",
       "      <td>Amistad Academy District</td>\n",
       "      <td>Amistad Academy</td>\n",
       "      <td>835</td>\n",
       "      <td>102</td>\n",
       "      <td>937</td>\n",
       "      <td>2013-14</td>\n",
       "    </tr>\n",
       "    <tr>\n",
       "      <th>2</th>\n",
       "      <td>0010111</td>\n",
       "      <td>0010011</td>\n",
       "      <td>Andover School District</td>\n",
       "      <td>Andover Elementary School</td>\n",
       "      <td>*</td>\n",
       "      <td>*</td>\n",
       "      <td>298</td>\n",
       "      <td>2013-14</td>\n",
       "    </tr>\n",
       "    <tr>\n",
       "      <th>3</th>\n",
       "      <td>0026111</td>\n",
       "      <td>0020011</td>\n",
       "      <td>Ansonia School District</td>\n",
       "      <td>Ansonia High School</td>\n",
       "      <td>589</td>\n",
       "      <td>13</td>\n",
       "      <td>602</td>\n",
       "      <td>2013-14</td>\n",
       "    </tr>\n",
       "    <tr>\n",
       "      <th>4</th>\n",
       "      <td>0025111</td>\n",
       "      <td>0020011</td>\n",
       "      <td>Ansonia School District</td>\n",
       "      <td>Ansonia Middle School</td>\n",
       "      <td>484</td>\n",
       "      <td>9</td>\n",
       "      <td>493</td>\n",
       "      <td>2013-14</td>\n",
       "    </tr>\n",
       "  </tbody>\n",
       "</table>\n",
       "</div>"
      ],
      "text/plain": [
       "  school_code district_code                                          district  \\\n",
       "0     2880113       2880013  Achievement First Hartford Academy Inc. District   \n",
       "1     2795113       2790013                          Amistad Academy District   \n",
       "2     0010111       0010011                           Andover School District   \n",
       "3     0026111       0020011                           Ansonia School District   \n",
       "4     0025111       0020011                           Ansonia School District   \n",
       "\n",
       "                                    school   no  yes total     year  \n",
       "0  Achievement First Hartford Academy Inc.  840   30   870  2013-14  \n",
       "1                          Amistad Academy  835  102   937  2013-14  \n",
       "2                Andover Elementary School    *    *   298  2013-14  \n",
       "3                      Ansonia High School  589   13   602  2013-14  \n",
       "4                    Ansonia Middle School  484    9   493  2013-14  "
      ]
     },
     "execution_count": 73,
     "metadata": {},
     "output_type": "execute_result"
    }
   ],
   "source": [
    "def get_sheet(yearstr, subgroup):\n",
    "    \n",
    "    ret = pd.read_csv(\"../scripts/brute/csv/EnrollmentYearExport-\"+yearstr+\"-\"+subgroup+\".csv\")\n",
    "    ret[\"year\"] = yearstr\n",
    "    \n",
    "    ret[\"district_code\"] = ret[\"district_code\"].astype(str)\n",
    "    ret[\"school_code\"] = ret[\"school_code\"].astype(str)\n",
    "    \n",
    "    ret[\"district_code\"] = ret[\"district_code\"].str.replace(\"\\\"\",\"\")\n",
    "    ret[\"school_code\"] = ret[\"school_code\"].str.replace(\"\\\"\",\"\")\n",
    "\n",
    "    ret[\"district_code\"] = ret[\"district_code\"].astype(str).str.zfill(7)\n",
    "    ret[\"school_code\"] = ret[\"school_code\"].astype(str).str.zfill(7)\n",
    "\n",
    "    #print \"Adding \" + str(len(ret.index)) + \" rows\"\n",
    "\n",
    "    return ret\n",
    "\n",
    "get_sheet(\"2013-14\",\"ELL\").head()\n"
   ]
  },
  {
   "cell_type": "code",
   "execution_count": null,
   "metadata": {
    "collapsed": true
   },
   "outputs": [],
   "source": []
  },
  {
   "cell_type": "code",
   "execution_count": 76,
   "metadata": {
    "collapsed": false
   },
   "outputs": [
    {
     "name": "stdout",
     "output_type": "stream",
     "text": [
      "hispanic\n",
      "Adding  hispanic_latino  to  hispanic\n",
      "Adding  hispanic_latino_of_any_race  to  hispanic\n",
      "tot_check sum 4431770.0\n",
      "white\n",
      "starting  white with white\n",
      "Adding  white_not_of_hispanic_origin  to  white\n",
      "tot_check sum 1113415.0\n",
      "other\n",
      "Adding  american_indian  to  other\n",
      "Adding  american_indian_or_alaska_native  to  other\n",
      "Adding  native_hawaiian_or_other_pacific_islander  to  other\n",
      "Adding  not_reported  to  other\n",
      "Adding  two_or_more_races  to  other\n",
      "tot_check sum 1039746.0\n",
      "black\n",
      "Adding  black_not_of_hispanic_origin  to  black\n",
      "Adding  black_or_african_american  to  black\n",
      "tot_check sum 332328.0\n",
      "asian\n",
      "starting  asian with asian\n",
      "tot_check sum 117012.0\n"
     ]
    }
   ],
   "source": [
    "years = map(lambda x: \"20\" + str(x).zfill(2) + \"-\" + str(x+1).zfill(2),range(7,17))\n",
    "\n",
    "groups = {\n",
    "    \"ell\":\"ELL\",\n",
    "    \"gender\":\"Gender\",\n",
    "    \"grade\":\"Grade\",\n",
    "    \"lunch\":\"Lunch\",\n",
    "    \"race\":\"Race\",\n",
    "    \"sped\":\"Special+Education+\"\n",
    "}\n",
    "\n",
    "def make_trend(subgroup):\n",
    "    \n",
    "    \n",
    "    sheets = []\n",
    "    for y in years:\n",
    "        sheets.append(get_sheet(y,subgroup))\n",
    "    \n",
    "    #return len(sheets)\n",
    "    ret = pd.concat(sheets)\n",
    "    \n",
    "    return ret\n",
    "\n",
    "for g in groups:\n",
    "    \n",
    "    df = make_trend(groups[g])\n",
    "\n",
    "    if g == \"race\":\n",
    "        df = clean_race_cols(df)\n",
    "        df.to_csv(\"../clean/for_db/enrollment_trend_race.csv\", index=False)\n",
    "    \n",
    "    df.to_csv(\"../clean/csv/enrollment-trend-\" + g + \".csv\",\n",
    "                                 index=False)"
   ]
  },
  {
   "cell_type": "markdown",
   "metadata": {},
   "source": [
    "#### "
   ]
  },
  {
   "cell_type": "code",
   "execution_count": 77,
   "metadata": {
    "collapsed": false
   },
   "outputs": [
    {
     "name": "stdout",
     "output_type": "stream",
     "text": [
      "hispanic\n",
      "Adding  hispanic_latino  to  hispanic\n",
      "Adding  hispanic_latino_of_any_race  to  hispanic\n",
      "tot_check sum 4431770.0\n",
      "white\n",
      "starting  white with white\n",
      "Adding  white_not_of_hispanic_origin  to  white\n",
      "tot_check sum 1113415.0\n",
      "other\n",
      "Adding  american_indian  to  other\n",
      "Adding  american_indian_or_alaska_native  to  other\n",
      "Adding  native_hawaiian_or_other_pacific_islander  to  other\n",
      "Adding  not_reported  to  other\n",
      "Adding  two_or_more_races  to  other\n",
      "tot_check sum 1039746.0\n",
      "black\n",
      "Adding  black_not_of_hispanic_origin  to  black\n",
      "Adding  black_or_african_american  to  black\n",
      "tot_check sum 332328.0\n",
      "asian\n",
      "starting  asian with asian\n",
      "tot_check sum 117012.0\n"
     ]
    },
    {
     "data": {
      "text/plain": [
       "0.0      2811\n",
       "7.0       764\n",
       "6.0       718\n",
       "8.0       674\n",
       "5.0       640\n",
       "9.0       609\n",
       "4.0       604\n",
       "3.0       552\n",
       "10.0      544\n",
       "11.0      470\n",
       "2.0       417\n",
       "12.0      347\n",
       "13.0      294\n",
       "14.0      278\n",
       "15.0      242\n",
       "16.0      218\n",
       "17.0      172\n",
       "18.0      150\n",
       "19.0      138\n",
       "20.0      119\n",
       "21.0      112\n",
       "22.0      106\n",
       "23.0       98\n",
       "25.0       63\n",
       "27.0       62\n",
       "24.0       59\n",
       "26.0       52\n",
       "28.0       52\n",
       "29.0       47\n",
       "31.0       44\n",
       "         ... \n",
       "94.0        1\n",
       "75.0        1\n",
       "145.0       1\n",
       "100.0       1\n",
       "72.0        1\n",
       "122.0       1\n",
       "81.0        1\n",
       "159.0       1\n",
       "141.0       1\n",
       "132.0       1\n",
       "113.0       1\n",
       "245.0       1\n",
       "88.0        1\n",
       "229.0       1\n",
       "232.0       1\n",
       "82.0        1\n",
       "107.0       1\n",
       "160.0       1\n",
       "111.0       1\n",
       "133.0       1\n",
       "102.0       1\n",
       "98.0        1\n",
       "96.0        1\n",
       "99.0        1\n",
       "109.0       1\n",
       "116.0       1\n",
       "108.0       1\n",
       "110.0       1\n",
       "148.0       1\n",
       "114.0       1\n",
       "Name: tot_check, dtype: int64"
      ]
     },
     "execution_count": 77,
     "metadata": {},
     "output_type": "execute_result"
    }
   ],
   "source": [
    "clean_race_cols(make_trend(\"race\"))[\"tot_check\"].value_counts()"
   ]
  },
  {
   "cell_type": "code",
   "execution_count": null,
   "metadata": {
    "collapsed": true
   },
   "outputs": [],
   "source": []
  },
  {
   "cell_type": "code",
   "execution_count": null,
   "metadata": {
    "collapsed": true
   },
   "outputs": [],
   "source": []
  },
  {
   "cell_type": "code",
   "execution_count": null,
   "metadata": {
    "collapsed": true
   },
   "outputs": [],
   "source": []
  },
  {
   "cell_type": "code",
   "execution_count": null,
   "metadata": {
    "collapsed": true
   },
   "outputs": [],
   "source": []
  }
 ],
 "metadata": {
  "kernelspec": {
   "display_name": "Python 2",
   "language": "python",
   "name": "python2"
  },
  "language_info": {
   "codemirror_mode": {
    "name": "ipython",
    "version": 2
   },
   "file_extension": ".py",
   "mimetype": "text/x-python",
   "name": "python",
   "nbconvert_exporter": "python",
   "pygments_lexer": "ipython2",
   "version": "2.7.13"
  }
 },
 "nbformat": 4,
 "nbformat_minor": 0
}
