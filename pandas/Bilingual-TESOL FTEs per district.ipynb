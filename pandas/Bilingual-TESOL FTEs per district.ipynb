{
 "cells": [
  {
   "cell_type": "code",
   "execution_count": 1,
   "metadata": {
    "collapsed": true
   },
   "outputs": [],
   "source": [
    "import pandas as pd\n",
    "import getschools as gs"
   ]
  },
  {
   "cell_type": "code",
   "execution_count": 1,
   "metadata": {
    "collapsed": false
   },
   "outputs": [
    {
     "ename": "NameError",
     "evalue": "global name 'pd' is not defined",
     "output_type": "error",
     "traceback": [
      "\u001b[0;31m---------------------------------------------------------------------------\u001b[0m",
      "\u001b[0;31mNameError\u001b[0m                                 Traceback (most recent call last)",
      "\u001b[0;32m<ipython-input-1-b508810dfd93>\u001b[0m in \u001b[0;36m<module>\u001b[0;34m()\u001b[0m\n\u001b[1;32m     13\u001b[0m     \u001b[0;32mreturn\u001b[0m \u001b[0mret\u001b[0m\u001b[0;34m\u001b[0m\u001b[0m\n\u001b[1;32m     14\u001b[0m \u001b[0;34m\u001b[0m\u001b[0m\n\u001b[0;32m---> 15\u001b[0;31m \u001b[0mget_sheet\u001b[0m\u001b[0;34m(\u001b[0m\u001b[0;34m)\u001b[0m\u001b[0;34m.\u001b[0m\u001b[0mhead\u001b[0m\u001b[0;34m(\u001b[0m\u001b[0;34m)\u001b[0m\u001b[0;34m\u001b[0m\u001b[0m\n\u001b[0m",
      "\u001b[0;32m<ipython-input-1-b508810dfd93>\u001b[0m in \u001b[0;36mget_sheet\u001b[0;34m(sheetname)\u001b[0m\n\u001b[1;32m      1\u001b[0m \u001b[0;32mdef\u001b[0m \u001b[0mget_sheet\u001b[0m\u001b[0;34m(\u001b[0m\u001b[0msheetname\u001b[0m\u001b[0;34m=\u001b[0m\u001b[0;36m0\u001b[0m\u001b[0;34m)\u001b[0m\u001b[0;34m:\u001b[0m\u001b[0;34m\u001b[0m\u001b[0m\n\u001b[0;32m----> 2\u001b[0;31m     \u001b[0mret\u001b[0m \u001b[0;34m=\u001b[0m \u001b[0mpd\u001b[0m\u001b[0;34m.\u001b[0m\u001b[0mread_excel\u001b[0m\u001b[0;34m(\u001b[0m\u001b[0;34m\"../raw/TESOL Bilingual Waivers educator counts.xlsx\"\u001b[0m\u001b[0;34m,\u001b[0m\u001b[0msheetname\u001b[0m\u001b[0;34m=\u001b[0m\u001b[0msheetname\u001b[0m\u001b[0;34m)\u001b[0m\u001b[0;34m\u001b[0m\u001b[0m\n\u001b[0m\u001b[1;32m      3\u001b[0m \u001b[0;34m\u001b[0m\u001b[0m\n\u001b[1;32m      4\u001b[0m     \u001b[0mret\u001b[0m\u001b[0;34m.\u001b[0m\u001b[0mcolumns\u001b[0m\u001b[0;34m=\u001b[0m\u001b[0;34m\"district\"\u001b[0m\u001b[0;34m,\u001b[0m\u001b[0;34m\"year\"\u001b[0m\u001b[0;34m,\u001b[0m\u001b[0;34m\"educators\"\u001b[0m\u001b[0;34m\u001b[0m\u001b[0m\n\u001b[1;32m      5\u001b[0m \u001b[0;34m\u001b[0m\u001b[0m\n",
      "\u001b[0;31mNameError\u001b[0m: global name 'pd' is not defined"
     ]
    }
   ],
   "source": [
    "def get_sheet(sheetname=0):\n",
    "    ret = pd.read_excel(\"../raw/TESOL Bilingual Waivers educator counts.xlsx\",sheetname=sheetname)\n",
    "\n",
    "    ret.columns=\"district\",\"year\",\"educators\"\n",
    "\n",
    "    \n",
    "    ret = gs.add_district_matches(ret)\n",
    "    \n",
    "    ret.columns=\"district\",\"year\",\"educators\",\"district_code\",\"check_dist_col\"\n",
    "    \n",
    "    ret = gs.add_district_matches(ret)\n",
    "    return ret\n",
    "    \n",
    "get_sheet().head()"
   ]
  },
  {
   "cell_type": "code",
   "execution_count": 3,
   "metadata": {
    "collapsed": false
   },
   "outputs": [
    {
     "data": {
      "text/html": [
       "<div>\n",
       "<table border=\"1\" class=\"dataframe\">\n",
       "  <thead>\n",
       "    <tr style=\"text-align: right;\">\n",
       "      <th></th>\n",
       "      <th>district</th>\n",
       "      <th>year</th>\n",
       "      <th>educators</th>\n",
       "      <th>district_code</th>\n",
       "      <th>check_dist_col</th>\n",
       "      <th>dist_code</th>\n",
       "    </tr>\n",
       "  </thead>\n",
       "  <tbody>\n",
       "    <tr>\n",
       "      <th>0</th>\n",
       "      <td>Bridgeport Achievement First District</td>\n",
       "      <td>2010-11</td>\n",
       "      <td>1</td>\n",
       "      <td>2850013</td>\n",
       "      <td>Bridgeport Achievement First District</td>\n",
       "      <td>2850013</td>\n",
       "    </tr>\n",
       "    <tr>\n",
       "      <th>1</th>\n",
       "      <td>Bridgeport School District</td>\n",
       "      <td>2010-11</td>\n",
       "      <td>45</td>\n",
       "      <td>0150011</td>\n",
       "      <td>Bridgeport School District</td>\n",
       "      <td>0150011</td>\n",
       "    </tr>\n",
       "    <tr>\n",
       "      <th>2</th>\n",
       "      <td>Clemens College</td>\n",
       "      <td>2010-11</td>\n",
       "      <td>5</td>\n",
       "      <td>None</td>\n",
       "      <td>None</td>\n",
       "      <td>None</td>\n",
       "    </tr>\n",
       "    <tr>\n",
       "      <th>3</th>\n",
       "      <td>Connecticut College</td>\n",
       "      <td>2010-11</td>\n",
       "      <td>1</td>\n",
       "      <td>None</td>\n",
       "      <td>None</td>\n",
       "      <td>None</td>\n",
       "    </tr>\n",
       "    <tr>\n",
       "      <th>4</th>\n",
       "      <td>Connecticut Technical High School System</td>\n",
       "      <td>2010-11</td>\n",
       "      <td>9</td>\n",
       "      <td>9000016</td>\n",
       "      <td>Connecticut Technical High School System</td>\n",
       "      <td>9000016</td>\n",
       "    </tr>\n",
       "  </tbody>\n",
       "</table>\n",
       "</div>"
      ],
      "text/plain": [
       "                                   district     year  educators district_code  \\\n",
       "0     Bridgeport Achievement First District  2010-11          1       2850013   \n",
       "1                Bridgeport School District  2010-11         45       0150011   \n",
       "2                           Clemens College  2010-11          5          None   \n",
       "3                       Connecticut College  2010-11          1          None   \n",
       "4  Connecticut Technical High School System  2010-11          9       9000016   \n",
       "\n",
       "                             check_dist_col dist_code  \n",
       "0     Bridgeport Achievement First District   2850013  \n",
       "1                Bridgeport School District   0150011  \n",
       "2                                      None      None  \n",
       "3                                      None      None  \n",
       "4  Connecticut Technical High School System   9000016  "
      ]
     },
     "execution_count": 3,
     "metadata": {},
     "output_type": "execute_result"
    }
   ],
   "source": [
    "bilingual=get_sheet(2)\n",
    "bilingual.head()"
   ]
  },
  {
   "cell_type": "code",
   "execution_count": 4,
   "metadata": {
    "collapsed": false
   },
   "outputs": [
    {
     "data": {
      "text/html": [
       "<div>\n",
       "<table border=\"1\" class=\"dataframe\">\n",
       "  <thead>\n",
       "    <tr style=\"text-align: right;\">\n",
       "      <th></th>\n",
       "      <th>district</th>\n",
       "      <th>year</th>\n",
       "      <th>educators</th>\n",
       "      <th>district_code</th>\n",
       "      <th>check_dist_col</th>\n",
       "      <th>dist_code</th>\n",
       "    </tr>\n",
       "  </thead>\n",
       "  <tbody>\n",
       "    <tr>\n",
       "      <th>0</th>\n",
       "      <td>Ansonia School District</td>\n",
       "      <td>2010-11</td>\n",
       "      <td>3</td>\n",
       "      <td>0020011</td>\n",
       "      <td>Ansonia School District</td>\n",
       "      <td>0020011</td>\n",
       "    </tr>\n",
       "    <tr>\n",
       "      <th>1</th>\n",
       "      <td>Area Cooperative Educational Services</td>\n",
       "      <td>2010-11</td>\n",
       "      <td>1</td>\n",
       "      <td>2440014</td>\n",
       "      <td>Area Cooperative Educational Services</td>\n",
       "      <td>2440014</td>\n",
       "    </tr>\n",
       "    <tr>\n",
       "      <th>2</th>\n",
       "      <td>Ashford School District</td>\n",
       "      <td>2010-11</td>\n",
       "      <td>1</td>\n",
       "      <td>0030011</td>\n",
       "      <td>Ashford School District</td>\n",
       "      <td>0030011</td>\n",
       "    </tr>\n",
       "    <tr>\n",
       "      <th>3</th>\n",
       "      <td>Avon School District</td>\n",
       "      <td>2010-11</td>\n",
       "      <td>2</td>\n",
       "      <td>0040011</td>\n",
       "      <td>Avon School District</td>\n",
       "      <td>0040011</td>\n",
       "    </tr>\n",
       "    <tr>\n",
       "      <th>4</th>\n",
       "      <td>Bais Binyomin Academy</td>\n",
       "      <td>2010-11</td>\n",
       "      <td>2</td>\n",
       "      <td>None</td>\n",
       "      <td>None</td>\n",
       "      <td>None</td>\n",
       "    </tr>\n",
       "  </tbody>\n",
       "</table>\n",
       "</div>"
      ],
      "text/plain": [
       "                                district     year  educators district_code  \\\n",
       "0                Ansonia School District  2010-11          3       0020011   \n",
       "1  Area Cooperative Educational Services  2010-11          1       2440014   \n",
       "2                Ashford School District  2010-11          1       0030011   \n",
       "3                   Avon School District  2010-11          2       0040011   \n",
       "4                  Bais Binyomin Academy  2010-11          2          None   \n",
       "\n",
       "                          check_dist_col dist_code  \n",
       "0                Ansonia School District   0020011  \n",
       "1  Area Cooperative Educational Services   2440014  \n",
       "2                Ashford School District   0030011  \n",
       "3                   Avon School District   0040011  \n",
       "4                                   None      None  "
      ]
     },
     "execution_count": 4,
     "metadata": {},
     "output_type": "execute_result"
    }
   ],
   "source": [
    "tesol=get_sheet(3)\n",
    "tesol.head()"
   ]
  },
  {
   "cell_type": "markdown",
   "metadata": {},
   "source": [
    "# Success rates"
   ]
  },
  {
   "cell_type": "code",
   "execution_count": 5,
   "metadata": {
    "collapsed": false
   },
   "outputs": [],
   "source": [
    "def dist_success(df):\n",
    "    print \"Success\", len(df[df[\"district_code\"].notnull()][\"district\"].unique())\n",
    "    print \"Failure\", len(df[df[\"district_code\"].isnull()][\"district\"].unique())\n",
    "    \n",
    "    print \"\"\n",
    "    print \"\"\n",
    "    print df[df[\"district_code\"].isnull()][\"district\"].unique()"
   ]
  },
  {
   "cell_type": "code",
   "execution_count": 6,
   "metadata": {
    "collapsed": false
   },
   "outputs": [
    {
     "name": "stdout",
     "output_type": "stream",
     "text": [
      "Success 24\n",
      "Failure 2\n",
      "\n",
      "\n",
      "[u'Clemens College' u'Connecticut College']\n"
     ]
    }
   ],
   "source": [
    "dist_success(bilingual)"
   ]
  },
  {
   "cell_type": "code",
   "execution_count": 7,
   "metadata": {
    "collapsed": false
   },
   "outputs": [
    {
     "name": "stdout",
     "output_type": "stream",
     "text": [
      "Success 86\n",
      "Failure 7\n",
      "\n",
      "\n",
      "[u'Bais Binyomin Academy' u'Clemens College' u'Connecticut College'\n",
      " u'Hartford Seminary' u'Lyme Academy College of Fine Arts'\n",
      " u'Rensselaer at Hartford' u'Unified School District #1']\n"
     ]
    }
   ],
   "source": [
    "dist_success(tesol)"
   ]
  },
  {
   "cell_type": "code",
   "execution_count": 8,
   "metadata": {
    "collapsed": false
   },
   "outputs": [
    {
     "data": {
      "text/html": [
       "<div>\n",
       "<table border=\"1\" class=\"dataframe\">\n",
       "  <thead>\n",
       "    <tr style=\"text-align: right;\">\n",
       "      <th></th>\n",
       "      <th>district</th>\n",
       "      <th>year</th>\n",
       "      <th>educators</th>\n",
       "      <th>district_code</th>\n",
       "      <th>check_dist_col</th>\n",
       "      <th>dist_code</th>\n",
       "    </tr>\n",
       "  </thead>\n",
       "  <tbody>\n",
       "    <tr>\n",
       "      <th>0</th>\n",
       "      <td>Bridgeport Achievement First District</td>\n",
       "      <td>2010-11</td>\n",
       "      <td>1</td>\n",
       "      <td>2850013</td>\n",
       "      <td>Bridgeport Achievement First District</td>\n",
       "      <td>2850013</td>\n",
       "    </tr>\n",
       "    <tr>\n",
       "      <th>1</th>\n",
       "      <td>Bridgeport School District</td>\n",
       "      <td>2010-11</td>\n",
       "      <td>45</td>\n",
       "      <td>0150011</td>\n",
       "      <td>Bridgeport School District</td>\n",
       "      <td>0150011</td>\n",
       "    </tr>\n",
       "    <tr>\n",
       "      <th>2</th>\n",
       "      <td>Clemens College</td>\n",
       "      <td>2010-11</td>\n",
       "      <td>5</td>\n",
       "      <td>None</td>\n",
       "      <td>None</td>\n",
       "      <td>None</td>\n",
       "    </tr>\n",
       "    <tr>\n",
       "      <th>3</th>\n",
       "      <td>Connecticut College</td>\n",
       "      <td>2010-11</td>\n",
       "      <td>1</td>\n",
       "      <td>None</td>\n",
       "      <td>None</td>\n",
       "      <td>None</td>\n",
       "    </tr>\n",
       "    <tr>\n",
       "      <th>4</th>\n",
       "      <td>Connecticut Technical High School System</td>\n",
       "      <td>2010-11</td>\n",
       "      <td>9</td>\n",
       "      <td>9000016</td>\n",
       "      <td>Connecticut Technical High School System</td>\n",
       "      <td>9000016</td>\n",
       "    </tr>\n",
       "  </tbody>\n",
       "</table>\n",
       "</div>"
      ],
      "text/plain": [
       "                                   district     year  educators district_code  \\\n",
       "0     Bridgeport Achievement First District  2010-11          1       2850013   \n",
       "1                Bridgeport School District  2010-11         45       0150011   \n",
       "2                           Clemens College  2010-11          5          None   \n",
       "3                       Connecticut College  2010-11          1          None   \n",
       "4  Connecticut Technical High School System  2010-11          9       9000016   \n",
       "\n",
       "                             check_dist_col dist_code  \n",
       "0     Bridgeport Achievement First District   2850013  \n",
       "1                Bridgeport School District   0150011  \n",
       "2                                      None      None  \n",
       "3                                      None      None  \n",
       "4  Connecticut Technical High School System   9000016  "
      ]
     },
     "execution_count": 8,
     "metadata": {},
     "output_type": "execute_result"
    }
   ],
   "source": [
    "bilingual.head()"
   ]
  },
  {
   "cell_type": "code",
   "execution_count": 9,
   "metadata": {
    "collapsed": false
   },
   "outputs": [
    {
     "data": {
      "text/html": [
       "<div>\n",
       "<table border=\"1\" class=\"dataframe\">\n",
       "  <thead>\n",
       "    <tr style=\"text-align: right;\">\n",
       "      <th></th>\n",
       "      <th>district</th>\n",
       "      <th>year</th>\n",
       "      <th>educators_bilingual</th>\n",
       "      <th>district_code_bilingual</th>\n",
       "      <th>check_dist_col_bilingual</th>\n",
       "      <th>dist_code_bilingual</th>\n",
       "      <th>educators_tesol</th>\n",
       "      <th>district_code_tesol</th>\n",
       "      <th>check_dist_col_tesol</th>\n",
       "      <th>dist_code_tesol</th>\n",
       "    </tr>\n",
       "  </thead>\n",
       "  <tbody>\n",
       "    <tr>\n",
       "      <th>0</th>\n",
       "      <td>Bridgeport Achievement First District</td>\n",
       "      <td>2010-11</td>\n",
       "      <td>1.0</td>\n",
       "      <td>2850013</td>\n",
       "      <td>Bridgeport Achievement First District</td>\n",
       "      <td>2850013</td>\n",
       "      <td>NaN</td>\n",
       "      <td>NaN</td>\n",
       "      <td>NaN</td>\n",
       "      <td>NaN</td>\n",
       "    </tr>\n",
       "    <tr>\n",
       "      <th>1</th>\n",
       "      <td>Bridgeport School District</td>\n",
       "      <td>2010-11</td>\n",
       "      <td>45.0</td>\n",
       "      <td>0150011</td>\n",
       "      <td>Bridgeport School District</td>\n",
       "      <td>0150011</td>\n",
       "      <td>27.0</td>\n",
       "      <td>0150011</td>\n",
       "      <td>Bridgeport School District</td>\n",
       "      <td>0150011</td>\n",
       "    </tr>\n",
       "    <tr>\n",
       "      <th>2</th>\n",
       "      <td>Clemens College</td>\n",
       "      <td>2010-11</td>\n",
       "      <td>5.0</td>\n",
       "      <td>None</td>\n",
       "      <td>None</td>\n",
       "      <td>None</td>\n",
       "      <td>22.0</td>\n",
       "      <td>None</td>\n",
       "      <td>None</td>\n",
       "      <td>None</td>\n",
       "    </tr>\n",
       "    <tr>\n",
       "      <th>3</th>\n",
       "      <td>Connecticut College</td>\n",
       "      <td>2010-11</td>\n",
       "      <td>1.0</td>\n",
       "      <td>None</td>\n",
       "      <td>None</td>\n",
       "      <td>None</td>\n",
       "      <td>2.0</td>\n",
       "      <td>None</td>\n",
       "      <td>None</td>\n",
       "      <td>None</td>\n",
       "    </tr>\n",
       "    <tr>\n",
       "      <th>4</th>\n",
       "      <td>Connecticut Technical High School System</td>\n",
       "      <td>2010-11</td>\n",
       "      <td>9.0</td>\n",
       "      <td>9000016</td>\n",
       "      <td>Connecticut Technical High School System</td>\n",
       "      <td>9000016</td>\n",
       "      <td>21.0</td>\n",
       "      <td>9000016</td>\n",
       "      <td>Connecticut Technical High School System</td>\n",
       "      <td>9000016</td>\n",
       "    </tr>\n",
       "  </tbody>\n",
       "</table>\n",
       "</div>"
      ],
      "text/plain": [
       "                                   district     year  educators_bilingual  \\\n",
       "0     Bridgeport Achievement First District  2010-11                  1.0   \n",
       "1                Bridgeport School District  2010-11                 45.0   \n",
       "2                           Clemens College  2010-11                  5.0   \n",
       "3                       Connecticut College  2010-11                  1.0   \n",
       "4  Connecticut Technical High School System  2010-11                  9.0   \n",
       "\n",
       "  district_code_bilingual                  check_dist_col_bilingual  \\\n",
       "0                 2850013     Bridgeport Achievement First District   \n",
       "1                 0150011                Bridgeport School District   \n",
       "2                    None                                      None   \n",
       "3                    None                                      None   \n",
       "4                 9000016  Connecticut Technical High School System   \n",
       "\n",
       "  dist_code_bilingual  educators_tesol district_code_tesol  \\\n",
       "0             2850013              NaN                 NaN   \n",
       "1             0150011             27.0             0150011   \n",
       "2                None             22.0                None   \n",
       "3                None              2.0                None   \n",
       "4             9000016             21.0             9000016   \n",
       "\n",
       "                       check_dist_col_tesol dist_code_tesol  \n",
       "0                                       NaN             NaN  \n",
       "1                Bridgeport School District         0150011  \n",
       "2                                      None            None  \n",
       "3                                      None            None  \n",
       "4  Connecticut Technical High School System         9000016  "
      ]
     },
     "execution_count": 9,
     "metadata": {},
     "output_type": "execute_result"
    }
   ],
   "source": [
    "merged = bilingual.merge(tesol,how=\"outer\",on=[\"district\",\"year\"],suffixes=(\"_bilingual\",\"_tesol\"))\n",
    "\n",
    "merged.head()"
   ]
  },
  {
   "cell_type": "code",
   "execution_count": 10,
   "metadata": {
    "collapsed": false
   },
   "outputs": [
    {
     "data": {
      "text/html": [
       "<div>\n",
       "<table border=\"1\" class=\"dataframe\">\n",
       "  <thead>\n",
       "    <tr style=\"text-align: right;\">\n",
       "      <th></th>\n",
       "      <th>district</th>\n",
       "      <th>year</th>\n",
       "      <th>educators_bilingual</th>\n",
       "      <th>district_code_bilingual</th>\n",
       "      <th>check_dist_col_bilingual</th>\n",
       "      <th>dist_code_bilingual</th>\n",
       "      <th>educators_tesol</th>\n",
       "      <th>district_code_tesol</th>\n",
       "      <th>check_dist_col_tesol</th>\n",
       "      <th>dist_code_tesol</th>\n",
       "      <th>educators_total</th>\n",
       "      <th>educators_bilingual_pct</th>\n",
       "      <th>educators_tesol_pct</th>\n",
       "      <th>district_code</th>\n",
       "    </tr>\n",
       "  </thead>\n",
       "  <tbody>\n",
       "    <tr>\n",
       "      <th>0</th>\n",
       "      <td>Bridgeport Achievement First District</td>\n",
       "      <td>2010-11</td>\n",
       "      <td>1.0</td>\n",
       "      <td>2850013</td>\n",
       "      <td>Bridgeport Achievement First District</td>\n",
       "      <td>2850013</td>\n",
       "      <td>0.0</td>\n",
       "      <td>NaN</td>\n",
       "      <td>NaN</td>\n",
       "      <td>NaN</td>\n",
       "      <td>1.0</td>\n",
       "      <td>100.000000</td>\n",
       "      <td>0.000000</td>\n",
       "      <td>2850013</td>\n",
       "    </tr>\n",
       "    <tr>\n",
       "      <th>1</th>\n",
       "      <td>Bridgeport School District</td>\n",
       "      <td>2010-11</td>\n",
       "      <td>45.0</td>\n",
       "      <td>0150011</td>\n",
       "      <td>Bridgeport School District</td>\n",
       "      <td>0150011</td>\n",
       "      <td>27.0</td>\n",
       "      <td>0150011</td>\n",
       "      <td>Bridgeport School District</td>\n",
       "      <td>0150011</td>\n",
       "      <td>72.0</td>\n",
       "      <td>62.500000</td>\n",
       "      <td>37.500000</td>\n",
       "      <td>0150011</td>\n",
       "    </tr>\n",
       "    <tr>\n",
       "      <th>2</th>\n",
       "      <td>Clemens College</td>\n",
       "      <td>2010-11</td>\n",
       "      <td>5.0</td>\n",
       "      <td>None</td>\n",
       "      <td>None</td>\n",
       "      <td>None</td>\n",
       "      <td>22.0</td>\n",
       "      <td>None</td>\n",
       "      <td>None</td>\n",
       "      <td>None</td>\n",
       "      <td>27.0</td>\n",
       "      <td>18.518519</td>\n",
       "      <td>81.481481</td>\n",
       "      <td>None</td>\n",
       "    </tr>\n",
       "    <tr>\n",
       "      <th>3</th>\n",
       "      <td>Connecticut College</td>\n",
       "      <td>2010-11</td>\n",
       "      <td>1.0</td>\n",
       "      <td>None</td>\n",
       "      <td>None</td>\n",
       "      <td>None</td>\n",
       "      <td>2.0</td>\n",
       "      <td>None</td>\n",
       "      <td>None</td>\n",
       "      <td>None</td>\n",
       "      <td>3.0</td>\n",
       "      <td>33.333333</td>\n",
       "      <td>66.666667</td>\n",
       "      <td>None</td>\n",
       "    </tr>\n",
       "    <tr>\n",
       "      <th>4</th>\n",
       "      <td>Connecticut Technical High School System</td>\n",
       "      <td>2010-11</td>\n",
       "      <td>9.0</td>\n",
       "      <td>9000016</td>\n",
       "      <td>Connecticut Technical High School System</td>\n",
       "      <td>9000016</td>\n",
       "      <td>21.0</td>\n",
       "      <td>9000016</td>\n",
       "      <td>Connecticut Technical High School System</td>\n",
       "      <td>9000016</td>\n",
       "      <td>30.0</td>\n",
       "      <td>30.000000</td>\n",
       "      <td>70.000000</td>\n",
       "      <td>9000016</td>\n",
       "    </tr>\n",
       "  </tbody>\n",
       "</table>\n",
       "</div>"
      ],
      "text/plain": [
       "                                   district     year  educators_bilingual  \\\n",
       "0     Bridgeport Achievement First District  2010-11                  1.0   \n",
       "1                Bridgeport School District  2010-11                 45.0   \n",
       "2                           Clemens College  2010-11                  5.0   \n",
       "3                       Connecticut College  2010-11                  1.0   \n",
       "4  Connecticut Technical High School System  2010-11                  9.0   \n",
       "\n",
       "  district_code_bilingual                  check_dist_col_bilingual  \\\n",
       "0                 2850013     Bridgeport Achievement First District   \n",
       "1                 0150011                Bridgeport School District   \n",
       "2                    None                                      None   \n",
       "3                    None                                      None   \n",
       "4                 9000016  Connecticut Technical High School System   \n",
       "\n",
       "  dist_code_bilingual  educators_tesol district_code_tesol  \\\n",
       "0             2850013              0.0                 NaN   \n",
       "1             0150011             27.0             0150011   \n",
       "2                None             22.0                None   \n",
       "3                None              2.0                None   \n",
       "4             9000016             21.0             9000016   \n",
       "\n",
       "                       check_dist_col_tesol dist_code_tesol  educators_total  \\\n",
       "0                                       NaN             NaN              1.0   \n",
       "1                Bridgeport School District         0150011             72.0   \n",
       "2                                      None            None             27.0   \n",
       "3                                      None            None              3.0   \n",
       "4  Connecticut Technical High School System         9000016             30.0   \n",
       "\n",
       "   educators_bilingual_pct  educators_tesol_pct district_code  \n",
       "0               100.000000             0.000000       2850013  \n",
       "1                62.500000            37.500000       0150011  \n",
       "2                18.518519            81.481481          None  \n",
       "3                33.333333            66.666667          None  \n",
       "4                30.000000            70.000000       9000016  "
      ]
     },
     "execution_count": 10,
     "metadata": {},
     "output_type": "execute_result"
    }
   ],
   "source": [
    "# merged.columns = [\"district\",\"year\",\n",
    "#                   \"educators_bilingual\",\n",
    "#                   \"district_code\",\n",
    "#                   \"check_dist_col_b\",\n",
    "#                   \"educators_tesol\",\n",
    "#                   \"district_code_b\",\n",
    "#                   \"check_dist_col_b\"]\n",
    "\n",
    "merged[\"educators_bilingual\"] = pd.to_numeric(merged[\"educators_bilingual\"],errors=\"coerce\").fillna(0)\n",
    "merged[\"educators_tesol\"] = pd.to_numeric(merged[\"educators_tesol\"],errors=\"coerce\").fillna(0)\n",
    "\n",
    "merged[\"educators_total\"] = merged[\"educators_bilingual\"] + merged[\"educators_tesol\"]\n",
    "merged[\"educators_bilingual_pct\"] = merged[\"educators_bilingual\"] * 100 / merged[\"educators_total\"]\n",
    "merged[\"educators_tesol_pct\"] = merged[\"educators_tesol\"] * 100 / merged[\"educators_total\"]\n",
    "\n",
    "merged[\"district_code\"] = merged[\"district_code_bilingual\"].fillna(merged[\"district_code_tesol\"])\n",
    "\n",
    "\n",
    "merged.head()"
   ]
  },
  {
   "cell_type": "code",
   "execution_count": 11,
   "metadata": {
    "collapsed": false
   },
   "outputs": [
    {
     "name": "stderr",
     "output_type": "stream",
     "text": [
      "/usr/local/lib/python2.7/site-packages/ipykernel/__main__.py:10: SettingWithCopyWarning: \n",
      "A value is trying to be set on a copy of a slice from a DataFrame.\n",
      "Try using .loc[row_indexer,col_indexer] = value instead\n",
      "\n",
      "See the caveats in the documentation: http://pandas.pydata.org/pandas-docs/stable/indexing.html#indexing-view-versus-copy\n"
     ]
    },
    {
     "data": {
      "text/html": [
       "<div>\n",
       "<table border=\"1\" class=\"dataframe\">\n",
       "  <thead>\n",
       "    <tr style=\"text-align: right;\">\n",
       "      <th></th>\n",
       "      <th>district</th>\n",
       "      <th>district_code</th>\n",
       "      <th>year</th>\n",
       "      <th>educators_total</th>\n",
       "      <th>educators_bilingual</th>\n",
       "      <th>educators_bilingual_pct</th>\n",
       "      <th>educators_tesol</th>\n",
       "      <th>educators_tesol_pct</th>\n",
       "      <th>check_dist</th>\n",
       "      <th>school_code</th>\n",
       "    </tr>\n",
       "  </thead>\n",
       "  <tbody>\n",
       "    <tr>\n",
       "      <th>0</th>\n",
       "      <td>Bridgeport Achievement First District</td>\n",
       "      <td>2850013</td>\n",
       "      <td>2010-11</td>\n",
       "      <td>1.0</td>\n",
       "      <td>1.0</td>\n",
       "      <td>100.000000</td>\n",
       "      <td>0.0</td>\n",
       "      <td>0.000000</td>\n",
       "      <td>NaN</td>\n",
       "      <td>2850013</td>\n",
       "    </tr>\n",
       "    <tr>\n",
       "      <th>1</th>\n",
       "      <td>Bridgeport School District</td>\n",
       "      <td>0150011</td>\n",
       "      <td>2010-11</td>\n",
       "      <td>72.0</td>\n",
       "      <td>45.0</td>\n",
       "      <td>62.500000</td>\n",
       "      <td>27.0</td>\n",
       "      <td>37.500000</td>\n",
       "      <td>Bridgeport School District</td>\n",
       "      <td>0150011</td>\n",
       "    </tr>\n",
       "    <tr>\n",
       "      <th>2</th>\n",
       "      <td>Clemens College</td>\n",
       "      <td>None</td>\n",
       "      <td>2010-11</td>\n",
       "      <td>27.0</td>\n",
       "      <td>5.0</td>\n",
       "      <td>18.518519</td>\n",
       "      <td>22.0</td>\n",
       "      <td>81.481481</td>\n",
       "      <td>None</td>\n",
       "      <td>None</td>\n",
       "    </tr>\n",
       "    <tr>\n",
       "      <th>3</th>\n",
       "      <td>Connecticut College</td>\n",
       "      <td>None</td>\n",
       "      <td>2010-11</td>\n",
       "      <td>3.0</td>\n",
       "      <td>1.0</td>\n",
       "      <td>33.333333</td>\n",
       "      <td>2.0</td>\n",
       "      <td>66.666667</td>\n",
       "      <td>None</td>\n",
       "      <td>None</td>\n",
       "    </tr>\n",
       "    <tr>\n",
       "      <th>4</th>\n",
       "      <td>Connecticut Technical High School System</td>\n",
       "      <td>9000016</td>\n",
       "      <td>2010-11</td>\n",
       "      <td>30.0</td>\n",
       "      <td>9.0</td>\n",
       "      <td>30.000000</td>\n",
       "      <td>21.0</td>\n",
       "      <td>70.000000</td>\n",
       "      <td>Connecticut Technical High School System</td>\n",
       "      <td>9000016</td>\n",
       "    </tr>\n",
       "  </tbody>\n",
       "</table>\n",
       "</div>"
      ],
      "text/plain": [
       "                                   district district_code     year  \\\n",
       "0     Bridgeport Achievement First District       2850013  2010-11   \n",
       "1                Bridgeport School District       0150011  2010-11   \n",
       "2                           Clemens College          None  2010-11   \n",
       "3                       Connecticut College          None  2010-11   \n",
       "4  Connecticut Technical High School System       9000016  2010-11   \n",
       "\n",
       "   educators_total  educators_bilingual  educators_bilingual_pct  \\\n",
       "0              1.0                  1.0               100.000000   \n",
       "1             72.0                 45.0                62.500000   \n",
       "2             27.0                  5.0                18.518519   \n",
       "3              3.0                  1.0                33.333333   \n",
       "4             30.0                  9.0                30.000000   \n",
       "\n",
       "   educators_tesol  educators_tesol_pct  \\\n",
       "0              0.0             0.000000   \n",
       "1             27.0            37.500000   \n",
       "2             22.0            81.481481   \n",
       "3              2.0            66.666667   \n",
       "4             21.0            70.000000   \n",
       "\n",
       "                                 check_dist school_code  \n",
       "0                                       NaN     2850013  \n",
       "1                Bridgeport School District     0150011  \n",
       "2                                      None        None  \n",
       "3                                      None        None  \n",
       "4  Connecticut Technical High School System     9000016  "
      ]
     },
     "execution_count": 11,
     "metadata": {},
     "output_type": "execute_result"
    }
   ],
   "source": [
    "\n",
    "pared_down = merged[[\"district\",\"district_code\",\"year\",\"educators_total\",\"educators_bilingual\",\n",
    "                     \"educators_bilingual_pct\",\"educators_tesol\",\"educators_tesol_pct\",\n",
    "                    \"check_dist_col_tesol\"]]\n",
    "\n",
    "pared_down.columns = [\"district\",\"district_code\",\"year\",\"educators_total\",\"educators_bilingual\",\n",
    "                     \"educators_bilingual_pct\",\"educators_tesol\",\"educators_tesol_pct\",\n",
    "                    \"check_dist\"]\n",
    "\n",
    "pared_down[\"school_code\"] = pared_down[\"district_code\"]\n",
    "pared_down.head()\n"
   ]
  },
  {
   "cell_type": "code",
   "execution_count": 12,
   "metadata": {
    "collapsed": false
   },
   "outputs": [
    {
     "data": {
      "text/plain": [
       "186"
      ]
     },
     "execution_count": 12,
     "metadata": {},
     "output_type": "execute_result"
    }
   ],
   "source": [
    "len(pared_down[pared_down[\"educators_tesol_pct\"] > 75].index)"
   ]
  },
  {
   "cell_type": "code",
   "execution_count": 13,
   "metadata": {
    "collapsed": false
   },
   "outputs": [
    {
     "data": {
      "text/plain": [
       "5"
      ]
     },
     "execution_count": 13,
     "metadata": {},
     "output_type": "execute_result"
    }
   ],
   "source": [
    "len(pared_down[pared_down[\"educators_bilingual_pct\"] > 75].index)"
   ]
  },
  {
   "cell_type": "code",
   "execution_count": 14,
   "metadata": {
    "collapsed": true
   },
   "outputs": [],
   "source": [
    "pared_down.to_csv(\"../clean/csv/fte_bilingual_tesol.csv\",index=False)"
   ]
  },
  {
   "cell_type": "code",
   "execution_count": null,
   "metadata": {
    "collapsed": true
   },
   "outputs": [],
   "source": []
  },
  {
   "cell_type": "code",
   "execution_count": null,
   "metadata": {
    "collapsed": true
   },
   "outputs": [],
   "source": []
  }
 ],
 "metadata": {
  "kernelspec": {
   "display_name": "Python 2",
   "language": "python",
   "name": "python2"
  },
  "language_info": {
   "codemirror_mode": {
    "name": "ipython",
    "version": 2
   },
   "file_extension": ".py",
   "mimetype": "text/x-python",
   "name": "python",
   "nbconvert_exporter": "python",
   "pygments_lexer": "ipython2",
   "version": "2.7.13"
  }
 },
 "nbformat": 4,
 "nbformat_minor": 0
}
