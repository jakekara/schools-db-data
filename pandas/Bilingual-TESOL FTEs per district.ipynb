{
 "cells": [
  {
   "cell_type": "code",
   "execution_count": 1,
   "metadata": {
    "collapsed": true
   },
   "outputs": [],
   "source": [
    "import pandas as pd\n",
    "import getschools as gs"
   ]
  },
  {
   "cell_type": "code",
   "execution_count": 2,
   "metadata": {
    "collapsed": false
   },
   "outputs": [
    {
     "data": {
      "text/html": [
       "<div>\n",
       "<table border=\"1\" class=\"dataframe\">\n",
       "  <thead>\n",
       "    <tr style=\"text-align: right;\">\n",
       "      <th></th>\n",
       "      <th>district</th>\n",
       "      <th>year</th>\n",
       "      <th>educators</th>\n",
       "      <th>district_code</th>\n",
       "      <th>check_dist_col</th>\n",
       "    </tr>\n",
       "  </thead>\n",
       "  <tbody>\n",
       "    <tr>\n",
       "      <th>0</th>\n",
       "      <td>Ansonia School District</td>\n",
       "      <td>2010-11</td>\n",
       "      <td>1</td>\n",
       "      <td>0020011</td>\n",
       "      <td>Ansonia School District</td>\n",
       "    </tr>\n",
       "    <tr>\n",
       "      <th>1</th>\n",
       "      <td>Bridgeport School District</td>\n",
       "      <td>2010-11</td>\n",
       "      <td>3</td>\n",
       "      <td>0150011</td>\n",
       "      <td>Bridgeport School District</td>\n",
       "    </tr>\n",
       "    <tr>\n",
       "      <th>2</th>\n",
       "      <td>Bridgeport School District</td>\n",
       "      <td>2015-16</td>\n",
       "      <td>1</td>\n",
       "      <td>0150011</td>\n",
       "      <td>Bridgeport School District</td>\n",
       "    </tr>\n",
       "    <tr>\n",
       "      <th>3</th>\n",
       "      <td>Bridgeport School District</td>\n",
       "      <td>2016-17</td>\n",
       "      <td>1</td>\n",
       "      <td>0150011</td>\n",
       "      <td>Bridgeport School District</td>\n",
       "    </tr>\n",
       "    <tr>\n",
       "      <th>4</th>\n",
       "      <td>Bristol School District</td>\n",
       "      <td>2015-16</td>\n",
       "      <td>2</td>\n",
       "      <td>0170011</td>\n",
       "      <td>Bristol School District</td>\n",
       "    </tr>\n",
       "  </tbody>\n",
       "</table>\n",
       "</div>"
      ],
      "text/plain": [
       "                     district     year  educators district_code  \\\n",
       "0     Ansonia School District  2010-11          1       0020011   \n",
       "1  Bridgeport School District  2010-11          3       0150011   \n",
       "2  Bridgeport School District  2015-16          1       0150011   \n",
       "3  Bridgeport School District  2016-17          1       0150011   \n",
       "4     Bristol School District  2015-16          2       0170011   \n",
       "\n",
       "               check_dist_col  \n",
       "0     Ansonia School District  \n",
       "1  Bridgeport School District  \n",
       "2  Bridgeport School District  \n",
       "3  Bridgeport School District  \n",
       "4     Bristol School District  "
      ]
     },
     "execution_count": 2,
     "metadata": {},
     "output_type": "execute_result"
    }
   ],
   "source": [
    "def get_sheet(sheetname=0):\n",
    "    ret = pd.read_excel(\"../raw/TESOL Bilingual Waivers educator counts.xlsx\",sheetname=sheetname)\n",
    "\n",
    "    ret.columns=\"district\",\"year\",\"educators\"\n",
    "\n",
    "    \n",
    "    ret = gs.add_district_matches(ret)\n",
    "    \n",
    "    ret.columns=\"district\",\"year\",\"educators\",\"district_code\",\"check_dist_col\"\n",
    "    \n",
    "    return ret\n",
    "    \n",
    "get_sheet().head()"
   ]
  },
  {
   "cell_type": "code",
   "execution_count": 3,
   "metadata": {
    "collapsed": false
   },
   "outputs": [
    {
     "data": {
      "text/html": [
       "<div>\n",
       "<table border=\"1\" class=\"dataframe\">\n",
       "  <thead>\n",
       "    <tr style=\"text-align: right;\">\n",
       "      <th></th>\n",
       "      <th>district</th>\n",
       "      <th>year</th>\n",
       "      <th>educators</th>\n",
       "      <th>district_code</th>\n",
       "      <th>check_dist_col</th>\n",
       "    </tr>\n",
       "  </thead>\n",
       "  <tbody>\n",
       "    <tr>\n",
       "      <th>0</th>\n",
       "      <td>Bridgeport Achievement First District</td>\n",
       "      <td>2010-11</td>\n",
       "      <td>1</td>\n",
       "      <td>2850013</td>\n",
       "      <td>Bridgeport Achievement First District</td>\n",
       "    </tr>\n",
       "    <tr>\n",
       "      <th>1</th>\n",
       "      <td>Bridgeport School District</td>\n",
       "      <td>2010-11</td>\n",
       "      <td>45</td>\n",
       "      <td>0150011</td>\n",
       "      <td>Bridgeport School District</td>\n",
       "    </tr>\n",
       "    <tr>\n",
       "      <th>2</th>\n",
       "      <td>Clemens College</td>\n",
       "      <td>2010-11</td>\n",
       "      <td>5</td>\n",
       "      <td>None</td>\n",
       "      <td>None</td>\n",
       "    </tr>\n",
       "    <tr>\n",
       "      <th>3</th>\n",
       "      <td>Connecticut College</td>\n",
       "      <td>2010-11</td>\n",
       "      <td>1</td>\n",
       "      <td>None</td>\n",
       "      <td>None</td>\n",
       "    </tr>\n",
       "    <tr>\n",
       "      <th>4</th>\n",
       "      <td>Connecticut Technical High School System</td>\n",
       "      <td>2010-11</td>\n",
       "      <td>9</td>\n",
       "      <td>9000016</td>\n",
       "      <td>Connecticut Technical High School System</td>\n",
       "    </tr>\n",
       "  </tbody>\n",
       "</table>\n",
       "</div>"
      ],
      "text/plain": [
       "                                   district     year  educators district_code  \\\n",
       "0     Bridgeport Achievement First District  2010-11          1       2850013   \n",
       "1                Bridgeport School District  2010-11         45       0150011   \n",
       "2                           Clemens College  2010-11          5          None   \n",
       "3                       Connecticut College  2010-11          1          None   \n",
       "4  Connecticut Technical High School System  2010-11          9       9000016   \n",
       "\n",
       "                             check_dist_col  \n",
       "0     Bridgeport Achievement First District  \n",
       "1                Bridgeport School District  \n",
       "2                                      None  \n",
       "3                                      None  \n",
       "4  Connecticut Technical High School System  "
      ]
     },
     "execution_count": 3,
     "metadata": {},
     "output_type": "execute_result"
    }
   ],
   "source": [
    "bilingual=get_sheet(2)\n",
    "bilingual.head()"
   ]
  },
  {
   "cell_type": "code",
   "execution_count": 4,
   "metadata": {
    "collapsed": false
   },
   "outputs": [
    {
     "data": {
      "text/html": [
       "<div>\n",
       "<table border=\"1\" class=\"dataframe\">\n",
       "  <thead>\n",
       "    <tr style=\"text-align: right;\">\n",
       "      <th></th>\n",
       "      <th>district</th>\n",
       "      <th>year</th>\n",
       "      <th>educators</th>\n",
       "      <th>district_code</th>\n",
       "      <th>check_dist_col</th>\n",
       "    </tr>\n",
       "  </thead>\n",
       "  <tbody>\n",
       "    <tr>\n",
       "      <th>0</th>\n",
       "      <td>Ansonia School District</td>\n",
       "      <td>2010-11</td>\n",
       "      <td>3</td>\n",
       "      <td>0020011</td>\n",
       "      <td>Ansonia School District</td>\n",
       "    </tr>\n",
       "    <tr>\n",
       "      <th>1</th>\n",
       "      <td>Area Cooperative Educational Services</td>\n",
       "      <td>2010-11</td>\n",
       "      <td>1</td>\n",
       "      <td>2440014</td>\n",
       "      <td>Area Cooperative Educational Services</td>\n",
       "    </tr>\n",
       "    <tr>\n",
       "      <th>2</th>\n",
       "      <td>Ashford School District</td>\n",
       "      <td>2010-11</td>\n",
       "      <td>1</td>\n",
       "      <td>0030011</td>\n",
       "      <td>Ashford School District</td>\n",
       "    </tr>\n",
       "    <tr>\n",
       "      <th>3</th>\n",
       "      <td>Avon School District</td>\n",
       "      <td>2010-11</td>\n",
       "      <td>2</td>\n",
       "      <td>0040011</td>\n",
       "      <td>Avon School District</td>\n",
       "    </tr>\n",
       "    <tr>\n",
       "      <th>4</th>\n",
       "      <td>Bais Binyomin Academy</td>\n",
       "      <td>2010-11</td>\n",
       "      <td>2</td>\n",
       "      <td>None</td>\n",
       "      <td>None</td>\n",
       "    </tr>\n",
       "  </tbody>\n",
       "</table>\n",
       "</div>"
      ],
      "text/plain": [
       "                                district     year  educators district_code  \\\n",
       "0                Ansonia School District  2010-11          3       0020011   \n",
       "1  Area Cooperative Educational Services  2010-11          1       2440014   \n",
       "2                Ashford School District  2010-11          1       0030011   \n",
       "3                   Avon School District  2010-11          2       0040011   \n",
       "4                  Bais Binyomin Academy  2010-11          2          None   \n",
       "\n",
       "                          check_dist_col  \n",
       "0                Ansonia School District  \n",
       "1  Area Cooperative Educational Services  \n",
       "2                Ashford School District  \n",
       "3                   Avon School District  \n",
       "4                                   None  "
      ]
     },
     "execution_count": 4,
     "metadata": {},
     "output_type": "execute_result"
    }
   ],
   "source": [
    "tesol=get_sheet(3)\n",
    "tesol.head()"
   ]
  },
  {
   "cell_type": "markdown",
   "metadata": {},
   "source": [
    "# Success rates"
   ]
  },
  {
   "cell_type": "code",
   "execution_count": 5,
   "metadata": {
    "collapsed": false
   },
   "outputs": [],
   "source": [
    "def dist_success(df):\n",
    "    print \"Success\", len(df[df[\"district_code\"].notnull()][\"district\"].unique())\n",
    "    print \"Failure\", len(df[df[\"district_code\"].isnull()][\"district\"].unique())\n",
    "    \n",
    "    print \"\"\n",
    "    print \"\"\n",
    "    print df[df[\"district_code\"].isnull()][\"district\"].unique()"
   ]
  },
  {
   "cell_type": "code",
   "execution_count": 6,
   "metadata": {
    "collapsed": false
   },
   "outputs": [
    {
     "name": "stdout",
     "output_type": "stream",
     "text": [
      "Success 24\n",
      "Failure 2\n",
      "\n",
      "\n",
      "[u'Clemens College' u'Connecticut College']\n"
     ]
    }
   ],
   "source": [
    "dist_success(bilingual)"
   ]
  },
  {
   "cell_type": "code",
   "execution_count": 7,
   "metadata": {
    "collapsed": false
   },
   "outputs": [
    {
     "name": "stdout",
     "output_type": "stream",
     "text": [
      "Success 86\n",
      "Failure 7\n",
      "\n",
      "\n",
      "[u'Bais Binyomin Academy' u'Clemens College' u'Connecticut College'\n",
      " u'Hartford Seminary' u'Lyme Academy College of Fine Arts'\n",
      " u'Rensselaer at Hartford' u'Unified School District #1']\n"
     ]
    }
   ],
   "source": [
    "dist_success(tesol)"
   ]
  },
  {
   "cell_type": "code",
   "execution_count": 9,
   "metadata": {
    "collapsed": false
   },
   "outputs": [
    {
     "data": {
      "text/html": [
       "<div>\n",
       "<table border=\"1\" class=\"dataframe\">\n",
       "  <thead>\n",
       "    <tr style=\"text-align: right;\">\n",
       "      <th></th>\n",
       "      <th>district</th>\n",
       "      <th>year</th>\n",
       "      <th>educators</th>\n",
       "      <th>district_code</th>\n",
       "      <th>check_dist_col</th>\n",
       "    </tr>\n",
       "  </thead>\n",
       "  <tbody>\n",
       "    <tr>\n",
       "      <th>0</th>\n",
       "      <td>Bridgeport Achievement First District</td>\n",
       "      <td>2010-11</td>\n",
       "      <td>1</td>\n",
       "      <td>2850013</td>\n",
       "      <td>Bridgeport Achievement First District</td>\n",
       "    </tr>\n",
       "    <tr>\n",
       "      <th>1</th>\n",
       "      <td>Bridgeport School District</td>\n",
       "      <td>2010-11</td>\n",
       "      <td>45</td>\n",
       "      <td>0150011</td>\n",
       "      <td>Bridgeport School District</td>\n",
       "    </tr>\n",
       "    <tr>\n",
       "      <th>2</th>\n",
       "      <td>Clemens College</td>\n",
       "      <td>2010-11</td>\n",
       "      <td>5</td>\n",
       "      <td>None</td>\n",
       "      <td>None</td>\n",
       "    </tr>\n",
       "    <tr>\n",
       "      <th>3</th>\n",
       "      <td>Connecticut College</td>\n",
       "      <td>2010-11</td>\n",
       "      <td>1</td>\n",
       "      <td>None</td>\n",
       "      <td>None</td>\n",
       "    </tr>\n",
       "    <tr>\n",
       "      <th>4</th>\n",
       "      <td>Connecticut Technical High School System</td>\n",
       "      <td>2010-11</td>\n",
       "      <td>9</td>\n",
       "      <td>9000016</td>\n",
       "      <td>Connecticut Technical High School System</td>\n",
       "    </tr>\n",
       "  </tbody>\n",
       "</table>\n",
       "</div>"
      ],
      "text/plain": [
       "                                   district     year  educators district_code  \\\n",
       "0     Bridgeport Achievement First District  2010-11          1       2850013   \n",
       "1                Bridgeport School District  2010-11         45       0150011   \n",
       "2                           Clemens College  2010-11          5          None   \n",
       "3                       Connecticut College  2010-11          1          None   \n",
       "4  Connecticut Technical High School System  2010-11          9       9000016   \n",
       "\n",
       "                             check_dist_col  \n",
       "0     Bridgeport Achievement First District  \n",
       "1                Bridgeport School District  \n",
       "2                                      None  \n",
       "3                                      None  \n",
       "4  Connecticut Technical High School System  "
      ]
     },
     "execution_count": 9,
     "metadata": {},
     "output_type": "execute_result"
    }
   ],
   "source": [
    "bilingual.head()"
   ]
  },
  {
   "cell_type": "code",
   "execution_count": 20,
   "metadata": {
    "collapsed": false
   },
   "outputs": [
    {
     "data": {
      "text/html": [
       "<div>\n",
       "<table border=\"1\" class=\"dataframe\">\n",
       "  <thead>\n",
       "    <tr style=\"text-align: right;\">\n",
       "      <th></th>\n",
       "      <th>district</th>\n",
       "      <th>year</th>\n",
       "      <th>educators_x</th>\n",
       "      <th>district_code_x</th>\n",
       "      <th>check_dist_col_x</th>\n",
       "      <th>educators_y</th>\n",
       "      <th>district_code_y</th>\n",
       "      <th>check_dist_col_y</th>\n",
       "    </tr>\n",
       "  </thead>\n",
       "  <tbody>\n",
       "    <tr>\n",
       "      <th>0</th>\n",
       "      <td>Bridgeport Achievement First District</td>\n",
       "      <td>2010-11</td>\n",
       "      <td>1.0</td>\n",
       "      <td>2850013</td>\n",
       "      <td>Bridgeport Achievement First District</td>\n",
       "      <td>NaN</td>\n",
       "      <td>NaN</td>\n",
       "      <td>NaN</td>\n",
       "    </tr>\n",
       "    <tr>\n",
       "      <th>1</th>\n",
       "      <td>Bridgeport School District</td>\n",
       "      <td>2010-11</td>\n",
       "      <td>45.0</td>\n",
       "      <td>0150011</td>\n",
       "      <td>Bridgeport School District</td>\n",
       "      <td>27.0</td>\n",
       "      <td>0150011</td>\n",
       "      <td>Bridgeport School District</td>\n",
       "    </tr>\n",
       "    <tr>\n",
       "      <th>2</th>\n",
       "      <td>Clemens College</td>\n",
       "      <td>2010-11</td>\n",
       "      <td>5.0</td>\n",
       "      <td>None</td>\n",
       "      <td>None</td>\n",
       "      <td>22.0</td>\n",
       "      <td>None</td>\n",
       "      <td>None</td>\n",
       "    </tr>\n",
       "    <tr>\n",
       "      <th>3</th>\n",
       "      <td>Connecticut College</td>\n",
       "      <td>2010-11</td>\n",
       "      <td>1.0</td>\n",
       "      <td>None</td>\n",
       "      <td>None</td>\n",
       "      <td>2.0</td>\n",
       "      <td>None</td>\n",
       "      <td>None</td>\n",
       "    </tr>\n",
       "    <tr>\n",
       "      <th>4</th>\n",
       "      <td>Connecticut Technical High School System</td>\n",
       "      <td>2010-11</td>\n",
       "      <td>9.0</td>\n",
       "      <td>9000016</td>\n",
       "      <td>Connecticut Technical High School System</td>\n",
       "      <td>21.0</td>\n",
       "      <td>9000016</td>\n",
       "      <td>Connecticut Technical High School System</td>\n",
       "    </tr>\n",
       "  </tbody>\n",
       "</table>\n",
       "</div>"
      ],
      "text/plain": [
       "                                   district     year  educators_x  \\\n",
       "0     Bridgeport Achievement First District  2010-11          1.0   \n",
       "1                Bridgeport School District  2010-11         45.0   \n",
       "2                           Clemens College  2010-11          5.0   \n",
       "3                       Connecticut College  2010-11          1.0   \n",
       "4  Connecticut Technical High School System  2010-11          9.0   \n",
       "\n",
       "  district_code_x                          check_dist_col_x  educators_y  \\\n",
       "0         2850013     Bridgeport Achievement First District          NaN   \n",
       "1         0150011                Bridgeport School District         27.0   \n",
       "2            None                                      None         22.0   \n",
       "3            None                                      None          2.0   \n",
       "4         9000016  Connecticut Technical High School System         21.0   \n",
       "\n",
       "  district_code_y                          check_dist_col_y  \n",
       "0             NaN                                       NaN  \n",
       "1         0150011                Bridgeport School District  \n",
       "2            None                                      None  \n",
       "3            None                                      None  \n",
       "4         9000016  Connecticut Technical High School System  "
      ]
     },
     "execution_count": 20,
     "metadata": {},
     "output_type": "execute_result"
    }
   ],
   "source": []
  },
  {
   "cell_type": "code",
   "execution_count": 25,
   "metadata": {
    "collapsed": false
   },
   "outputs": [
    {
     "data": {
      "text/html": [
       "<div>\n",
       "<table border=\"1\" class=\"dataframe\">\n",
       "  <thead>\n",
       "    <tr style=\"text-align: right;\">\n",
       "      <th></th>\n",
       "      <th>district</th>\n",
       "      <th>year</th>\n",
       "      <th>educators_bilingual</th>\n",
       "      <th>district_code</th>\n",
       "      <th>check_dist_col_b</th>\n",
       "      <th>educators_tesol</th>\n",
       "      <th>district_code_b</th>\n",
       "      <th>check_dist_col_b</th>\n",
       "      <th>educators_total</th>\n",
       "      <th>educators_bilingual_pct</th>\n",
       "      <th>educators_tesol_pct</th>\n",
       "    </tr>\n",
       "  </thead>\n",
       "  <tbody>\n",
       "    <tr>\n",
       "      <th>0</th>\n",
       "      <td>Bridgeport Achievement First District</td>\n",
       "      <td>2010-11</td>\n",
       "      <td>1.0</td>\n",
       "      <td>2850013</td>\n",
       "      <td>Bridgeport Achievement First District</td>\n",
       "      <td>NaN</td>\n",
       "      <td>NaN</td>\n",
       "      <td>NaN</td>\n",
       "      <td>NaN</td>\n",
       "      <td>NaN</td>\n",
       "      <td>NaN</td>\n",
       "    </tr>\n",
       "    <tr>\n",
       "      <th>1</th>\n",
       "      <td>Bridgeport School District</td>\n",
       "      <td>2010-11</td>\n",
       "      <td>45.0</td>\n",
       "      <td>0150011</td>\n",
       "      <td>Bridgeport School District</td>\n",
       "      <td>27.0</td>\n",
       "      <td>0150011</td>\n",
       "      <td>Bridgeport School District</td>\n",
       "      <td>72.0</td>\n",
       "      <td>62.500000</td>\n",
       "      <td>37.500000</td>\n",
       "    </tr>\n",
       "    <tr>\n",
       "      <th>2</th>\n",
       "      <td>Clemens College</td>\n",
       "      <td>2010-11</td>\n",
       "      <td>5.0</td>\n",
       "      <td>None</td>\n",
       "      <td>None</td>\n",
       "      <td>22.0</td>\n",
       "      <td>None</td>\n",
       "      <td>None</td>\n",
       "      <td>27.0</td>\n",
       "      <td>18.518519</td>\n",
       "      <td>81.481481</td>\n",
       "    </tr>\n",
       "    <tr>\n",
       "      <th>3</th>\n",
       "      <td>Connecticut College</td>\n",
       "      <td>2010-11</td>\n",
       "      <td>1.0</td>\n",
       "      <td>None</td>\n",
       "      <td>None</td>\n",
       "      <td>2.0</td>\n",
       "      <td>None</td>\n",
       "      <td>None</td>\n",
       "      <td>3.0</td>\n",
       "      <td>33.333333</td>\n",
       "      <td>66.666667</td>\n",
       "    </tr>\n",
       "    <tr>\n",
       "      <th>4</th>\n",
       "      <td>Connecticut Technical High School System</td>\n",
       "      <td>2010-11</td>\n",
       "      <td>9.0</td>\n",
       "      <td>9000016</td>\n",
       "      <td>Connecticut Technical High School System</td>\n",
       "      <td>21.0</td>\n",
       "      <td>9000016</td>\n",
       "      <td>Connecticut Technical High School System</td>\n",
       "      <td>30.0</td>\n",
       "      <td>30.000000</td>\n",
       "      <td>70.000000</td>\n",
       "    </tr>\n",
       "  </tbody>\n",
       "</table>\n",
       "</div>"
      ],
      "text/plain": [
       "                                   district     year  educators_bilingual  \\\n",
       "0     Bridgeport Achievement First District  2010-11                  1.0   \n",
       "1                Bridgeport School District  2010-11                 45.0   \n",
       "2                           Clemens College  2010-11                  5.0   \n",
       "3                       Connecticut College  2010-11                  1.0   \n",
       "4  Connecticut Technical High School System  2010-11                  9.0   \n",
       "\n",
       "  district_code                          check_dist_col_b  educators_tesol  \\\n",
       "0       2850013     Bridgeport Achievement First District              NaN   \n",
       "1       0150011                Bridgeport School District             27.0   \n",
       "2          None                                      None             22.0   \n",
       "3          None                                      None              2.0   \n",
       "4       9000016  Connecticut Technical High School System             21.0   \n",
       "\n",
       "  district_code_b                          check_dist_col_b  educators_total  \\\n",
       "0             NaN                                       NaN              NaN   \n",
       "1         0150011                Bridgeport School District             72.0   \n",
       "2            None                                      None             27.0   \n",
       "3            None                                      None              3.0   \n",
       "4         9000016  Connecticut Technical High School System             30.0   \n",
       "\n",
       "   educators_bilingual_pct  educators_tesol_pct  \n",
       "0                      NaN                  NaN  \n",
       "1                62.500000            37.500000  \n",
       "2                18.518519            81.481481  \n",
       "3                33.333333            66.666667  \n",
       "4                30.000000            70.000000  "
      ]
     },
     "execution_count": 25,
     "metadata": {},
     "output_type": "execute_result"
    }
   ],
   "source": [
    "merged = bilingual.merge(tesol,how=\"outer\",on=[\"district\",\"year\"])\n",
    "\n",
    "merged.columns = [\"district\",\"year\",\"educators_bilingual\",\"district_code\",\n",
    "                  \"check_dist_col_b\",\"educators_tesol\",\"district_code_b\",\"check_dist_col_b\"]\n",
    "\n",
    "merged[\"educators_total\"] = merged[\"educators_bilingual\"] + merged[\"educators_tesol\"]\n",
    "merged[\"educators_bilingual_pct\"] = merged[\"educators_bilingual\"] * 100 / merged[\"educators_total\"]\n",
    "merged[\"educators_tesol_pct\"] = merged[\"educators_tesol\"] * 100 / merged[\"educators_total\"]\n",
    "merged.head()"
   ]
  },
  {
   "cell_type": "code",
   "execution_count": 32,
   "metadata": {
    "collapsed": false
   },
   "outputs": [],
   "source": [
    "pared_down = merged[[\"district\",\"year\",\"educators_total\",\"educators_bilingual\",\n",
    "                     \"educators_bilingual_pct\",\"educators_tesol\",\"educators_tesol_pct\"]]"
   ]
  },
  {
   "cell_type": "code",
   "execution_count": 40,
   "metadata": {
    "collapsed": false
   },
   "outputs": [
    {
     "data": {
      "text/plain": [
       "14"
      ]
     },
     "execution_count": 40,
     "metadata": {},
     "output_type": "execute_result"
    }
   ],
   "source": [
    "len(pared_down[pared_down[\"educators_tesol_pct\"] > 75].index)"
   ]
  },
  {
   "cell_type": "code",
   "execution_count": 42,
   "metadata": {
    "collapsed": false
   },
   "outputs": [
    {
     "data": {
      "text/plain": [
       "2"
      ]
     },
     "execution_count": 42,
     "metadata": {},
     "output_type": "execute_result"
    }
   ],
   "source": [
    "len(pared_down[pared_down[\"educators_bilingual_pct\"] > 75].index)"
   ]
  },
  {
   "cell_type": "code",
   "execution_count": null,
   "metadata": {
    "collapsed": true
   },
   "outputs": [],
   "source": []
  },
  {
   "cell_type": "code",
   "execution_count": null,
   "metadata": {
    "collapsed": true
   },
   "outputs": [],
   "source": []
  }
 ],
 "metadata": {
  "kernelspec": {
   "display_name": "Python 2",
   "language": "python",
   "name": "python2"
  },
  "language_info": {
   "codemirror_mode": {
    "name": "ipython",
    "version": 2
   },
   "file_extension": ".py",
   "mimetype": "text/x-python",
   "name": "python",
   "nbconvert_exporter": "python",
   "pygments_lexer": "ipython2",
   "version": "2.7.13"
  }
 },
 "nbformat": 4,
 "nbformat_minor": 0
}
