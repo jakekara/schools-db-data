{
 "cells": [
  {
   "cell_type": "code",
   "execution_count": 1,
   "metadata": {
    "collapsed": true
   },
   "outputs": [],
   "source": [
    "import pandas as pd\n",
    "import numpy as np\n",
    "import getschools as gs"
   ]
  },
  {
   "cell_type": "code",
   "execution_count": 19,
   "metadata": {
    "collapsed": false
   },
   "outputs": [
    {
     "name": "stdout",
     "output_type": "stream",
     "text": [
      "FACILITY 1\n",
      "DISTRICT\n",
      "SCHOOL\n",
      "LANGUAGE\n",
      "LTSS\n",
      "ELIGIBLE FOR BILINGUAL\n",
      "Total Els\n"
     ]
    }
   ],
   "source": [
    "def get_df():\n",
    "    \n",
    "    \n",
    "    ret = pd.read_excel(\"../raw/BILINGUAL 2016-17.xlsx\",skiprows=1)\n",
    "\n",
    "    for c in ret.columns:\n",
    "        print c\n",
    "    ret = gs.clean_colnames(ret)\n",
    "\n",
    "\n",
    "    ret.columns = [\"school_code\",\"district\",\"school\",\"language\",\"ltss\",\n",
    "                   \"eligible\",\"total_els\"]\n",
    "    \n",
    "    \n",
    "    \n",
    "    ret[\"school_code\"] = pd.to_numeric(ret[\"school_code\"],errors=\"coerce\")\n",
    "    ret = ret[ret[\"school_code\"].notnull()]\n",
    "    \n",
    "    ret[\"school_code\"] = ret[\"school_code\"].astype(int).astype(str).str.zfill(7)\n",
    "\n",
    "\n",
    "    \n",
    "    return ret\n",
    "\n",
    "get_df().to_csv(\"../clean/for_db/bilingual_enrollment_type.csv\",\n",
    "                index=False)"
   ]
  },
  {
   "cell_type": "code",
   "execution_count": null,
   "metadata": {
    "collapsed": true
   },
   "outputs": [],
   "source": []
  },
  {
   "cell_type": "code",
   "execution_count": 18,
   "metadata": {
    "collapsed": false
   },
   "outputs": [
    {
     "name": "stdout",
     "output_type": "stream",
     "text": [
      "Index([u'FACILITY 1', u'DISTRICT', u'SCHOOL', u'LANGUAGE', u'LTSS',\n",
      "       u'ELIGIBLE FOR BILINGUAL', u'Total Els'],\n",
      "      dtype='object')\n"
     ]
    },
    {
     "data": {
      "text/plain": [
       "273"
      ]
     },
     "execution_count": 18,
     "metadata": {},
     "output_type": "execute_result"
    }
   ],
   "source": [
    "len(get_df())"
   ]
  },
  {
   "cell_type": "code",
   "execution_count": null,
   "metadata": {
    "collapsed": true
   },
   "outputs": [],
   "source": []
  }
 ],
 "metadata": {
  "kernelspec": {
   "display_name": "Python 2",
   "language": "python",
   "name": "python2"
  },
  "language_info": {
   "codemirror_mode": {
    "name": "ipython",
    "version": 2
   },
   "file_extension": ".py",
   "mimetype": "text/x-python",
   "name": "python",
   "nbconvert_exporter": "python",
   "pygments_lexer": "ipython2",
   "version": "2.7.13"
  }
 },
 "nbformat": 4,
 "nbformat_minor": 0
}
