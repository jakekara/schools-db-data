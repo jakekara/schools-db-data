{
 "cells": [
  {
   "cell_type": "code",
   "execution_count": 1,
   "metadata": {
    "collapsed": false
   },
   "outputs": [],
   "source": [
    "import pandas as pd\n",
    "import getschools as gs"
   ]
  },
  {
   "cell_type": "code",
   "execution_count": 2,
   "metadata": {
    "collapsed": false
   },
   "outputs": [
    {
     "name": "stdout",
     "output_type": "stream",
     "text": [
      "Index([u'district', u'type', u'2010_11', u'2011_12', u'2012_13', u'2013_14',\n",
      "       u'2014_15', u'dist_code', u'check_dist_col', u'school_code'],\n",
      "      dtype='object')\n"
     ]
    }
   ],
   "source": [
    "def get_df():\n",
    "    ret = pd.read_csv(\"../scripts/noequals/fiscalResources.csv\", skiprows=4)\n",
    "    ret = gs.clean_colnames(ret)\n",
    "    ret = gs.filldown(ret, \"district\")\n",
    "    ret = gs.add_district_matches(ret)\n",
    "    ret[\"school_code\"] = ret[\"dist_code\"]\n",
    "    \n",
    "    print ret.columns\n",
    "    ret.columns = [u'district', u'type', u'2010_11', u'2011_12', u'2012_13', u'2013_14',\n",
    "       u'2014_15', u'district_code', u'check_dist_col', u'school_code']\n",
    "    return ret\n",
    "\n",
    "df = get_df()\n"
   ]
  },
  {
   "cell_type": "markdown",
   "metadata": {},
   "source": [
    "# Success rate: 20 errors, 1870 matches"
   ]
  },
  {
   "cell_type": "code",
   "execution_count": 4,
   "metadata": {
    "collapsed": false
   },
   "outputs": [
    {
     "data": {
      "text/plain": [
       "20"
      ]
     },
     "execution_count": 4,
     "metadata": {},
     "output_type": "execute_result"
    }
   ],
   "source": [
    "len(df[df[\"district_code\"].isnull()])"
   ]
  },
  {
   "cell_type": "code",
   "execution_count": 5,
   "metadata": {
    "collapsed": false
   },
   "outputs": [
    {
     "data": {
      "text/plain": [
       "1870"
      ]
     },
     "execution_count": 5,
     "metadata": {},
     "output_type": "execute_result"
    }
   ],
   "source": [
    "len(df[df[\"district_code\"].notnull()])"
   ]
  },
  {
   "cell_type": "markdown",
   "metadata": {},
   "source": [
    "# export"
   ]
  },
  {
   "cell_type": "code",
   "execution_count": 6,
   "metadata": {
    "collapsed": true
   },
   "outputs": [],
   "source": [
    "df.to_csv(\"../clean/csv/fiscalResources.csv\",index=False)"
   ]
  },
  {
   "cell_type": "code",
   "execution_count": null,
   "metadata": {
    "collapsed": true
   },
   "outputs": [],
   "source": []
  }
 ],
 "metadata": {
  "kernelspec": {
   "display_name": "Python 2",
   "language": "python",
   "name": "python2"
  },
  "language_info": {
   "codemirror_mode": {
    "name": "ipython",
    "version": 2
   },
   "file_extension": ".py",
   "mimetype": "text/x-python",
   "name": "python",
   "nbconvert_exporter": "python",
   "pygments_lexer": "ipython2",
   "version": "2.7.13"
  }
 },
 "nbformat": 4,
 "nbformat_minor": 0
}
